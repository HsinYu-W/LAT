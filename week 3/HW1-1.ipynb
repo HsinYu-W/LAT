{
 "cells": [
  {
   "cell_type": "code",
   "execution_count": 27,
   "id": "43e5466b",
   "metadata": {
    "scrolled": true
   },
   "outputs": [
    {
     "data": {
      "text/html": [
       "<div>\n",
       "<style scoped>\n",
       "    .dataframe tbody tr th:only-of-type {\n",
       "        vertical-align: middle;\n",
       "    }\n",
       "\n",
       "    .dataframe tbody tr th {\n",
       "        vertical-align: top;\n",
       "    }\n",
       "\n",
       "    .dataframe thead th {\n",
       "        text-align: right;\n",
       "    }\n",
       "</style>\n",
       "<table border=\"1\" class=\"dataframe\">\n",
       "  <thead>\n",
       "    <tr style=\"text-align: right;\">\n",
       "      <th></th>\n",
       "      <th>教育階段</th>\n",
       "      <th>公私立別</th>\n",
       "      <th>合計</th>\n",
       "      <th>專科</th>\n",
       "      <th>專科百分比</th>\n",
       "      <th>大學</th>\n",
       "      <th>大學百分比</th>\n",
       "      <th>碩士</th>\n",
       "      <th>碩士百分比</th>\n",
       "      <th>博士</th>\n",
       "      <th>博士百分比</th>\n",
       "    </tr>\n",
       "  </thead>\n",
       "  <tbody>\n",
       "    <tr>\n",
       "      <th>0</th>\n",
       "      <td>103年度</td>\n",
       "      <td>總計</td>\n",
       "      <td>194717</td>\n",
       "      <td>1362</td>\n",
       "      <td>0.70</td>\n",
       "      <td>92630</td>\n",
       "      <td>47.57</td>\n",
       "      <td>98331</td>\n",
       "      <td>50.50</td>\n",
       "      <td>2394</td>\n",
       "      <td>1.23</td>\n",
       "    </tr>\n",
       "    <tr>\n",
       "      <th>1</th>\n",
       "      <td>104年度</td>\n",
       "      <td>總計</td>\n",
       "      <td>192035</td>\n",
       "      <td>1248</td>\n",
       "      <td>0.65</td>\n",
       "      <td>84516</td>\n",
       "      <td>44.01</td>\n",
       "      <td>103709</td>\n",
       "      <td>54.01</td>\n",
       "      <td>2562</td>\n",
       "      <td>1.33</td>\n",
       "    </tr>\n",
       "    <tr>\n",
       "      <th>2</th>\n",
       "      <td>104年度</td>\n",
       "      <td>公立</td>\n",
       "      <td>168631</td>\n",
       "      <td>309</td>\n",
       "      <td>0.18</td>\n",
       "      <td>70710</td>\n",
       "      <td>41.93</td>\n",
       "      <td>95234</td>\n",
       "      <td>56.47</td>\n",
       "      <td>2378</td>\n",
       "      <td>1.41</td>\n",
       "    </tr>\n",
       "    <tr>\n",
       "      <th>3</th>\n",
       "      <td>104年度</td>\n",
       "      <td>私立</td>\n",
       "      <td>23404</td>\n",
       "      <td>939</td>\n",
       "      <td>4.01</td>\n",
       "      <td>13806</td>\n",
       "      <td>58.99</td>\n",
       "      <td>8475</td>\n",
       "      <td>36.21</td>\n",
       "      <td>184</td>\n",
       "      <td>0.79</td>\n",
       "    </tr>\n",
       "    <tr>\n",
       "      <th>4</th>\n",
       "      <td>幼兒園</td>\n",
       "      <td>小計</td>\n",
       "      <td>12113</td>\n",
       "      <td>944</td>\n",
       "      <td>7.79</td>\n",
       "      <td>8640</td>\n",
       "      <td>71.33</td>\n",
       "      <td>2514</td>\n",
       "      <td>20.75</td>\n",
       "      <td>15</td>\n",
       "      <td>0.12</td>\n",
       "    </tr>\n",
       "  </tbody>\n",
       "</table>\n",
       "</div>"
      ],
      "text/plain": [
       "    教育階段 公私立別      合計    專科  專科百分比     大學  大學百分比      碩士  碩士百分比    博士  博士百分比\n",
       "0  103年度   總計  194717  1362   0.70  92630  47.57   98331  50.50  2394   1.23\n",
       "1  104年度   總計  192035  1248   0.65  84516  44.01  103709  54.01  2562   1.33\n",
       "2  104年度   公立  168631   309   0.18  70710  41.93   95234  56.47  2378   1.41\n",
       "3  104年度   私立   23404   939   4.01  13806  58.99    8475  36.21   184   0.79\n",
       "4    幼兒園   小計   12113   944   7.79   8640  71.33    2514  20.75    15   0.12"
      ]
     },
     "execution_count": 27,
     "metadata": {},
     "output_type": "execute_result"
    }
   ],
   "source": [
    "import pandas as pd\n",
    "\n",
    "# 讀取資料\n",
    "df = pd.read_csv('104年在職教師學歷、公私立別、教育階段之情況.csv')\n",
    "df.head()"
   ]
  },
  {
   "cell_type": "markdown",
   "id": "c5f3f571",
   "metadata": {},
   "source": [
    "# Q1: 104年度的公立和私立學校的大學學歷的教師差異？"
   ]
  },
  {
   "cell_type": "code",
   "execution_count": 29,
   "id": "551d1388",
   "metadata": {},
   "outputs": [
    {
     "name": "stdout",
     "output_type": "stream",
     "text": [
      "公立學校大學學歷百分比：41.93%\n",
      "私立學校大學學歷百分比：58.99%\n"
     ]
    }
   ],
   "source": [
    "# 取出 104 年度的資料\n",
    "df_104 = df[df['教育階段'] == '104年度']\n",
    "\n",
    "# 取出公立學校的資料\n",
    "df_public = df_104[df_104['公私立別'] == '公立']\n",
    "\n",
    "# 取出私立學校的資料\n",
    "df_private = df_104[df_104['公私立別'] == '私立']\n",
    "\n",
    "# 計算公立學校和私立學校各自的大學百分比\n",
    "public_college_percentage = df_public['大學百分比'].sum()\n",
    "private_college_percentage = df_private['大學百分比'].sum()\n",
    "\n",
    "# 計算結果\n",
    "print('公立學校大學學歷百分比：{:.2f}%'.format(public_college_percentage))\n",
    "print('私立學校大學學歷百分比：{:.2f}%'.format(private_college_percentage))"
   ]
  },
  {
   "cell_type": "markdown",
   "id": "0ae08da3",
   "metadata": {},
   "source": [
    "得出: 大學學歷的教師，任職於私立學校的比例較高"
   ]
  },
  {
   "cell_type": "markdown",
   "id": "804ef28f",
   "metadata": {},
   "source": [
    "# Q2: 任職於何種教育階段中的大學學歷教師比例最高？"
   ]
  },
  {
   "cell_type": "code",
   "execution_count": 36,
   "id": "9d1234c1",
   "metadata": {},
   "outputs": [
    {
     "name": "stdout",
     "output_type": "stream",
     "text": [
      "大學比例最高的教育階段為 幼兒園\n"
     ]
    }
   ],
   "source": [
    "# 刪除 \"103年度\" 和 \"104年度\" 的資料\n",
    "df = df[~df['教育階段'].isin(['103年度', '104年度'])]\n",
    "\n",
    "# 以 \"教育階段\" 為分組，計算大學百分比平均值\n",
    "univ_pct_mean_by_edu_level = df.groupby('教育階段')['大學百分比'].mean()\n",
    "\n",
    "# 取出大學比例最高的教育階段\n",
    "max_univ_pct_edu_level = univ_pct_mean_by_edu_level.idxmax()\n",
    "\n",
    "print(f\"大學比例最高的教育階段為 {max_univ_pct_edu_level}\")"
   ]
  },
  {
   "cell_type": "markdown",
   "id": "4aa69fd3",
   "metadata": {},
   "source": [
    "得出: 大學學歷的教師，最多任職於幼兒園"
   ]
  },
  {
   "cell_type": "markdown",
   "id": "b322c4d8",
   "metadata": {},
   "source": [
    "# Q3: 任職於何種教育階段中的碩士學歷教師比例最高？"
   ]
  },
  {
   "cell_type": "code",
   "execution_count": 42,
   "id": "399d705d",
   "metadata": {},
   "outputs": [
    {
     "name": "stdout",
     "output_type": "stream",
     "text": [
      "碩士比例最高的教育階段是：高級職業學校，碩士比例為：69.21%\n"
     ]
    }
   ],
   "source": [
    "# 去除103年度和104年度的資料\n",
    "df = df[(df['教育階段'] != '103年度') & (df['教育階段'] != '104年度')]\n",
    "\n",
    "# 依照碩士比例排序，取出碩士比例最高的一筆\n",
    "highest_master = df.sort_values(by='碩士百分比', ascending=False).iloc[0]\n",
    "\n",
    "print(f\"碩士比例最高的教育階段是：{highest_master['教育階段']}，碩士比例為：{highest_master['碩士百分比']}%\")\n"
   ]
  },
  {
   "cell_type": "markdown",
   "id": "a332a506",
   "metadata": {},
   "source": [
    "得出: 碩士學歷的教師，最多任職於高職"
   ]
  },
  {
   "cell_type": "markdown",
   "id": "e048e1a9",
   "metadata": {},
   "source": [
    "# Q4: 任職於何種教育階段中的博士學歷教師比例最高？"
   ]
  },
  {
   "cell_type": "code",
   "execution_count": 43,
   "id": "fb78a460",
   "metadata": {},
   "outputs": [
    {
     "name": "stdout",
     "output_type": "stream",
     "text": [
      "博士比例最高的教育階段是：矯正學校，博士比例為：5.19%\n"
     ]
    }
   ],
   "source": [
    "# 刪除 \"103年度\" 和 \"104年度\" 的資料\n",
    "df = df[~df['教育階段'].isin(['103年度', '104年度'])]\n",
    "\n",
    "# 依照博士比例排序，取出博士比例最高的一筆\n",
    "highest_phD = df.sort_values(by='博士百分比', ascending=False).iloc[0]\n",
    "\n",
    "print(f\"博士比例最高的教育階段是：{highest_phD['教育階段']}，博士比例為：{highest_phD['博士百分比']}%\")\n"
   ]
  },
  {
   "cell_type": "markdown",
   "id": "c29de28d",
   "metadata": {},
   "source": [
    "得出: 博士學歷的老師，最多任職於矯正學校"
   ]
  },
  {
   "cell_type": "code",
   "execution_count": null,
   "id": "d01a98a3",
   "metadata": {},
   "outputs": [],
   "source": []
  },
  {
   "cell_type": "code",
   "execution_count": null,
   "id": "c8440aba",
   "metadata": {},
   "outputs": [],
   "source": []
  },
  {
   "cell_type": "code",
   "execution_count": null,
   "id": "5bada593",
   "metadata": {},
   "outputs": [],
   "source": []
  }
 ],
 "metadata": {
  "kernelspec": {
   "display_name": "Python 3 (ipykernel)",
   "language": "python",
   "name": "python3"
  },
  "language_info": {
   "codemirror_mode": {
    "name": "ipython",
    "version": 3
   },
   "file_extension": ".py",
   "mimetype": "text/x-python",
   "name": "python",
   "nbconvert_exporter": "python",
   "pygments_lexer": "ipython3",
   "version": "3.9.13"
  }
 },
 "nbformat": 4,
 "nbformat_minor": 5
}
