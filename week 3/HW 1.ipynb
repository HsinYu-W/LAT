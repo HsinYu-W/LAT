{
 "cells": [
  {
   "cell_type": "code",
   "execution_count": 176,
   "id": "2d0dec4c",
   "metadata": {
    "scrolled": true
   },
   "outputs": [
    {
     "data": {
      "text/html": [
       "<div>\n",
       "<style scoped>\n",
       "    .dataframe tbody tr th:only-of-type {\n",
       "        vertical-align: middle;\n",
       "    }\n",
       "\n",
       "    .dataframe tbody tr th {\n",
       "        vertical-align: top;\n",
       "    }\n",
       "\n",
       "    .dataframe thead th {\n",
       "        text-align: right;\n",
       "    }\n",
       "</style>\n",
       "<table border=\"1\" class=\"dataframe\">\n",
       "  <thead>\n",
       "    <tr style=\"text-align: right;\">\n",
       "      <th></th>\n",
       "      <th>教育階段</th>\n",
       "      <th>公私立別</th>\n",
       "      <th>合計</th>\n",
       "      <th>專科</th>\n",
       "      <th>專科百分比</th>\n",
       "      <th>大學</th>\n",
       "      <th>大學百分比</th>\n",
       "      <th>碩士</th>\n",
       "      <th>碩士百分比</th>\n",
       "      <th>博士</th>\n",
       "      <th>博士百分比</th>\n",
       "    </tr>\n",
       "  </thead>\n",
       "  <tbody>\n",
       "    <tr>\n",
       "      <th>0</th>\n",
       "      <td>103年度</td>\n",
       "      <td>總計</td>\n",
       "      <td>194717</td>\n",
       "      <td>1362</td>\n",
       "      <td>0.70</td>\n",
       "      <td>92630</td>\n",
       "      <td>47.57</td>\n",
       "      <td>98331</td>\n",
       "      <td>50.50</td>\n",
       "      <td>2394</td>\n",
       "      <td>1.23</td>\n",
       "    </tr>\n",
       "    <tr>\n",
       "      <th>1</th>\n",
       "      <td>104年度</td>\n",
       "      <td>總計</td>\n",
       "      <td>192035</td>\n",
       "      <td>1248</td>\n",
       "      <td>0.65</td>\n",
       "      <td>84516</td>\n",
       "      <td>44.01</td>\n",
       "      <td>103709</td>\n",
       "      <td>54.01</td>\n",
       "      <td>2562</td>\n",
       "      <td>1.33</td>\n",
       "    </tr>\n",
       "    <tr>\n",
       "      <th>2</th>\n",
       "      <td>104年度</td>\n",
       "      <td>公立</td>\n",
       "      <td>168631</td>\n",
       "      <td>309</td>\n",
       "      <td>0.18</td>\n",
       "      <td>70710</td>\n",
       "      <td>41.93</td>\n",
       "      <td>95234</td>\n",
       "      <td>56.47</td>\n",
       "      <td>2378</td>\n",
       "      <td>1.41</td>\n",
       "    </tr>\n",
       "    <tr>\n",
       "      <th>3</th>\n",
       "      <td>104年度</td>\n",
       "      <td>私立</td>\n",
       "      <td>23404</td>\n",
       "      <td>939</td>\n",
       "      <td>4.01</td>\n",
       "      <td>13806</td>\n",
       "      <td>58.99</td>\n",
       "      <td>8475</td>\n",
       "      <td>36.21</td>\n",
       "      <td>184</td>\n",
       "      <td>0.79</td>\n",
       "    </tr>\n",
       "    <tr>\n",
       "      <th>4</th>\n",
       "      <td>幼兒園</td>\n",
       "      <td>小計</td>\n",
       "      <td>12113</td>\n",
       "      <td>944</td>\n",
       "      <td>7.79</td>\n",
       "      <td>8640</td>\n",
       "      <td>71.33</td>\n",
       "      <td>2514</td>\n",
       "      <td>20.75</td>\n",
       "      <td>15</td>\n",
       "      <td>0.12</td>\n",
       "    </tr>\n",
       "  </tbody>\n",
       "</table>\n",
       "</div>"
      ],
      "text/plain": [
       "    教育階段 公私立別      合計    專科  專科百分比     大學  大學百分比      碩士  碩士百分比    博士  博士百分比\n",
       "0  103年度   總計  194717  1362   0.70  92630  47.57   98331  50.50  2394   1.23\n",
       "1  104年度   總計  192035  1248   0.65  84516  44.01  103709  54.01  2562   1.33\n",
       "2  104年度   公立  168631   309   0.18  70710  41.93   95234  56.47  2378   1.41\n",
       "3  104年度   私立   23404   939   4.01  13806  58.99    8475  36.21   184   0.79\n",
       "4    幼兒園   小計   12113   944   7.79   8640  71.33    2514  20.75    15   0.12"
      ]
     },
     "execution_count": 176,
     "metadata": {},
     "output_type": "execute_result"
    }
   ],
   "source": [
    "import pandas as pd\n",
    "\n",
    "# 讀取資料\n",
    "df = pd.read_csv('104年在職教師學歷、公私立別、教育階段之情況.csv')\n",
    "df.head()"
   ]
  },
  {
   "cell_type": "markdown",
   "id": "dfc356fc",
   "metadata": {},
   "source": [
    "# Q1: 104年度的公立和私立學校的大學學歷的教師差異？"
   ]
  },
  {
   "cell_type": "code",
   "execution_count": 178,
   "id": "79f7b4a6",
   "metadata": {},
   "outputs": [
    {
     "name": "stdout",
     "output_type": "stream",
     "text": [
      "公立學校大學學歷百分比：41.93%\n",
      "私立學校大學學歷百分比：58.99%\n"
     ]
    }
   ],
   "source": [
    "# 取出 104 年度的資料\n",
    "df_104 = df[df['教育階段'] == '104年度']\n",
    "\n",
    "# 取出公立學校的資料\n",
    "df_public = df_104[df_104['公私立別'] == '公立']\n",
    "\n",
    "# 取出私立學校的資料\n",
    "df_private = df_104[df_104['公私立別'] == '私立']\n",
    "\n",
    "# 計算公立學校和私立學校各自的大學百分比\n",
    "public_college_percentage = df_public['大學百分比'].sum()\n",
    "private_college_percentage = df_private['大學百分比'].sum()\n",
    "\n",
    "# 計算結果\n",
    "print('公立學校大學學歷百分比：{:.2f}%'.format(public_college_percentage))\n",
    "print('私立學校大學學歷百分比：{:.2f}%'.format(private_college_percentage))"
   ]
  },
  {
   "cell_type": "markdown",
   "id": "cf93f9ed",
   "metadata": {},
   "source": [
    "得出: 大學學歷的教師，任職於私立學校的比例較高"
   ]
  },
  {
   "cell_type": "markdown",
   "id": "d02e163b",
   "metadata": {},
   "source": [
    "# Q2: 任職於何種教育階段中的大學學歷教師比例最高？"
   ]
  },
  {
   "cell_type": "code",
   "execution_count": 179,
   "id": "647a9d6a",
   "metadata": {},
   "outputs": [
    {
     "name": "stdout",
     "output_type": "stream",
     "text": [
      "大學比例最高的教育階段是：幼兒園，大學比例為：79.28%\n"
     ]
    }
   ],
   "source": [
    "# 刪除 \"103年度\" 和 \"104年度\" 的資料\n",
    "df = df[~df['教育階段'].isin(['103年度', '104年度'])]\n",
    "\n",
    "# 依照大學比例排序，取出大學比例最高的一筆\n",
    "highest_univ = df.sort_values(by='大學百分比', ascending=False).iloc[0]\n",
    "\n",
    "print(f\"大學比例最高的教育階段是：{highest_univ['教育階段']}，大學比例為：{highest_univ['大學百分比']}%\")\n"
   ]
  },
  {
   "cell_type": "markdown",
   "id": "82740931",
   "metadata": {},
   "source": [
    "得出: 大學學歷的教師，最多任職於幼兒園"
   ]
  },
  {
   "cell_type": "markdown",
   "id": "283490f0",
   "metadata": {},
   "source": [
    "# Q3: 任職於何種教育階段中的碩士學歷教師比例最高？"
   ]
  },
  {
   "cell_type": "code",
   "execution_count": 180,
   "id": "d8bc449c",
   "metadata": {},
   "outputs": [
    {
     "name": "stdout",
     "output_type": "stream",
     "text": [
      "碩士比例最高的教育階段是：高級職業學校，碩士比例為：69.21%\n"
     ]
    }
   ],
   "source": [
    "# 去除103年度和104年度的資料\n",
    "df = df[(df['教育階段'] != '103年度') & (df['教育階段'] != '104年度')]\n",
    "\n",
    "# 依照碩士比例排序，取出碩士比例最高的一筆\n",
    "highest_master = df.sort_values(by='碩士百分比', ascending=False).iloc[0]\n",
    "\n",
    "print(f\"碩士比例最高的教育階段是：{highest_master['教育階段']}，碩士比例為：{highest_master['碩士百分比']}%\")\n"
   ]
  },
  {
   "cell_type": "markdown",
   "id": "30791dc8",
   "metadata": {},
   "source": [
    "得出: 碩士學歷的教師，最多任職於高職"
   ]
  },
  {
   "cell_type": "markdown",
   "id": "47f9709c",
   "metadata": {},
   "source": [
    "# Q4: 任職於何種教育階段中的博士學歷教師比例最高？"
   ]
  },
  {
   "cell_type": "code",
   "execution_count": 181,
   "id": "fef0a3f3",
   "metadata": {},
   "outputs": [
    {
     "name": "stdout",
     "output_type": "stream",
     "text": [
      "博士比例最高的教育階段是：矯正學校，博士比例為：5.19%\n"
     ]
    }
   ],
   "source": [
    "# 刪除 \"103年度\" 和 \"104年度\" 的資料\n",
    "df = df[~df['教育階段'].isin(['103年度', '104年度'])]\n",
    "\n",
    "# 依照博士比例排序，取出博士比例最高的一筆\n",
    "highest_phD = df.sort_values(by='博士百分比', ascending=False).iloc[0]\n",
    "\n",
    "print(f\"博士比例最高的教育階段是：{highest_phD['教育階段']}，博士比例為：{highest_phD['博士百分比']}%\")\n"
   ]
  },
  {
   "cell_type": "markdown",
   "id": "23e4e26a",
   "metadata": {},
   "source": [
    "得出: 博士學歷的老師，最多任職於矯正學校"
   ]
  },
  {
   "cell_type": "markdown",
   "id": "e4db7a92",
   "metadata": {},
   "source": [
    "# Q5: 104學年的在職教師的最多人數的學歷為?"
   ]
  },
  {
   "cell_type": "code",
   "execution_count": 182,
   "id": "14640a13",
   "metadata": {},
   "outputs": [
    {
     "name": "stdout",
     "output_type": "stream",
     "text": [
      "  教育階段 公私立別      合計    專科  專科百分比     大學  大學百分比      碩士  碩士百分比    博士  博士百分比\n",
      "0   總計   總計  197654  1663   0.84  87264  44.13  105936  53.59  2791   1.41\n",
      "1   總計   總計  194846  1501   0.77  80090  41.08  108611  55.75  2644   1.36\n"
     ]
    }
   ],
   "source": [
    "data104 = {'教育階段': ['總計', '總計', '公立', '私立'],\n",
    "        '公私立別': ['總計', '總計', '公立', '私立'],\n",
    "        '合計': [194717, 192035, 168631, 23404],\n",
    "        '專科': [1362, 1248, 309, 939],\n",
    "        '專科百分比': [0.7, 0.65, 0.18, 4.01],\n",
    "        '大學': [92630, 84516, 70710, 13806],\n",
    "        '大學百分比': [47.57, 44.01, 41.93, 58.99],\n",
    "        '碩士': [98331, 103709, 95234, 8475],\n",
    "        '碩士百分比': [50.5, 54.01, 56.47, 36.21],\n",
    "        '博士': [2394, 2562, 2378, 184],\n",
    "        '博士百分比': [1.23, 1.33, 1.41, 0.79]}\n",
    "\n",
    "df = pd.DataFrame(data)\n",
    "\n",
    "df104_teacher = df[df['教育階段'] == '總計']\n",
    "\n",
    "print(df104_teacher)"
   ]
  },
  {
   "cell_type": "code",
   "execution_count": 183,
   "id": "669aef68",
   "metadata": {},
   "outputs": [
    {
     "name": "stdout",
     "output_type": "stream",
     "text": [
      "104在職教師的最多人數的學歷為： 碩士\n"
     ]
    }
   ],
   "source": [
    "df104_teacher = df104_teacher.sort_values(by=['專科', '大學', '碩士', '博士'], ascending=False)\n",
    "max_education = df104_teacher.columns[df104_teacher.iloc[0].values[3:].argmax()+3]\n",
    "\n",
    "print('104在職教師的最多人數的學歷為：', max_education)\n"
   ]
  },
  {
   "cell_type": "markdown",
   "id": "dba492fa",
   "metadata": {},
   "source": [
    "得出，大多數的在職教師，至少會取得碩士學位"
   ]
  },
  {
   "cell_type": "markdown",
   "id": "daa580e7",
   "metadata": {},
   "source": [
    "# Q6: 103學年的在職教師最多人數的學歷為?"
   ]
  },
  {
   "cell_type": "code",
   "execution_count": 184,
   "id": "e1087575",
   "metadata": {
    "scrolled": true
   },
   "outputs": [
    {
     "name": "stdout",
     "output_type": "stream",
     "text": [
      "103在職教師的最多人數的學歷為： 碩士\n"
     ]
    }
   ],
   "source": [
    "data103 = {'教育階段': ['總計', '總計', '公立', '私立'],\n",
    "        '公私立別': ['總計', '總計', '公立', '私立'],\n",
    "        '合計': [197654, 194846, 171528, 23228],\n",
    "        '專科': [1663, 1501, 408, 1095],\n",
    "        '專科百分比': [0.84, 0.77, 0.24, 4.71],\n",
    "        '大學': [87264, 80090, 66957, 13133],\n",
    "        '大學百分比': [44.13, 41.08, 39.03, 56.47],\n",
    "        '碩士': [105936, 108611, 98941, 9702],\n",
    "        '碩士百分比': [53.59, 55.75, 57.69, 41.74],\n",
    "        '博士': [2791, 2644, 2547, 97],\n",
    "        '博士百分比': [1.41, 1.36, 1.49, 0.42]}\n",
    "\n",
    "df = pd.DataFrame(data)\n",
    "\n",
    "df103_teacher = df[df['教育階段'] == '總計']\n",
    "\n",
    "df103_teacher = df103_teacher.sort_values(by=['專科', '大學', '碩士', '博士'], ascending=False)\n",
    "\n",
    "max_education = df103_teacher.columns[df103_teacher.iloc[0].values[3:].argmax()+3]\n",
    "\n",
    "print('103在職教師的最多人數的學歷為：', max_education)"
   ]
  },
  {
   "cell_type": "markdown",
   "id": "f1ba73f6",
   "metadata": {},
   "source": [
    "得出: 103年大多數的在職教師也是一樣的情形，一樣至少會有碩士學位\n"
   ]
  },
  {
   "cell_type": "markdown",
   "id": "867747ee",
   "metadata": {},
   "source": [
    "# Q7: 103 和 104 年度碩士教師的人數差異"
   ]
  },
  {
   "cell_type": "code",
   "execution_count": 185,
   "id": "b648fbc8",
   "metadata": {},
   "outputs": [
    {
     "name": "stdout",
     "output_type": "stream",
     "text": [
      "103年度碩士總計：105936\n",
      "104年度碩士總計：108611\n",
      "103和104年度的碩士教師相差人數：2675\n"
     ]
    }
   ],
   "source": [
    "# 取得 103 年度和 104 年度的碩士總計\n",
    "master_103 = df[(df['教育階段'] == '總計') & (df['合計'] != 0)]['碩士'].values[0]\n",
    "master_104 = df[(df['教育階段'] == '總計') & (df['合計'] != 0)]['碩士'].values[1]\n",
    "\n",
    "# 計算差異\n",
    "diff = master_104 - master_103\n",
    "\n",
    "# 輸出結果\n",
    "print(f\"103年度碩士總計：{master_103}\")\n",
    "print(f\"104年度碩士總計：{master_104}\")\n",
    "print(f\"103和104年度的碩士教師相差人數：{diff}\")\n"
   ]
  },
  {
   "cell_type": "markdown",
   "id": "7ca3a85d",
   "metadata": {},
   "source": [
    "得出: 碩士學位的教師人數趨勢成長"
   ]
  },
  {
   "cell_type": "markdown",
   "id": "5e8deb10",
   "metadata": {},
   "source": [
    "# Q8: 103和104年的大學學歷教師人數差異"
   ]
  },
  {
   "cell_type": "code",
   "execution_count": 186,
   "id": "e6298888",
   "metadata": {},
   "outputs": [
    {
     "name": "stdout",
     "output_type": "stream",
     "text": [
      "103年度學士總計：87264\n",
      "104年度學士總計：80090\n",
      "103和104年度的學士教師相差人數：-7174\n"
     ]
    }
   ],
   "source": [
    "# 取得 103 年度和 104 年度的大學總計\n",
    "univ_103 = df[(df['教育階段'] == '總計') & (df['合計'] != 0)]['大學'].values[0]\n",
    "univ_104 = df[(df['教育階段'] == '總計') & (df['合計'] != 0)]['大學'].values[1]\n",
    "\n",
    "# 計算差異\n",
    "diff = univ_104 - univ_103\n",
    "\n",
    "# 輸出結果\n",
    "print(f\"103年度學士總計：{univ_103}\")\n",
    "print(f\"104年度學士總計：{univ_104}\")\n",
    "print(f\"103和104年度的學士教師相差人數：{diff}\")"
   ]
  },
  {
   "cell_type": "markdown",
   "id": "80b76168",
   "metadata": {},
   "source": [
    "得出: 大學學歷的教師人數減少，有可能是整體教師人數減少而導致的，但看碩士學歷卻是增加，所以應該不是因為整體教師人數減少，猜測是因為教師不再僅僅擁有大學學位，而是精進自己的學術成就。"
   ]
  },
  {
   "cell_type": "markdown",
   "id": "9569fe09",
   "metadata": {},
   "source": [
    "# Q9: 103年與104年的博士學歷教師對比"
   ]
  },
  {
   "cell_type": "code",
   "execution_count": 187,
   "id": "88aa0c22",
   "metadata": {},
   "outputs": [
    {
     "name": "stdout",
     "output_type": "stream",
     "text": [
      "103年度博士總計：2791\n",
      "104年度博士總計：2644\n",
      "103和104年度的博士教師相差人數：-147\n"
     ]
    }
   ],
   "source": [
    "# 取得 103 年度和 104 年度的博士總計\n",
    "phD_103 = df[(df['教育階段'] == '總計') & (df['合計'] != 0)]['博士'].values[0]\n",
    "phD_104 = df[(df['教育階段'] == '總計') & (df['合計'] != 0)]['博士'].values[1]\n",
    "\n",
    "# 計算差異\n",
    "diff = phD_104 - phD_103\n",
    "\n",
    "# 輸出結果\n",
    "print(f\"103年度博士總計：{phD_103}\")\n",
    "print(f\"104年度博士總計：{phD_104}\")\n",
    "print(f\"103和104年度的博士教師相差人數：{diff}\")"
   ]
  },
  {
   "cell_type": "markdown",
   "id": "b66a8393",
   "metadata": {},
   "source": [
    "感想: 根據上面的推測，教師的學術成績應是成長的趨勢，很意外博士人數竟是減少的"
   ]
  },
  {
   "cell_type": "markdown",
   "id": "e469725e",
   "metadata": {},
   "source": [
    "# Q10: 103學年的在職教師的最少人數的學歷為?"
   ]
  },
  {
   "cell_type": "code",
   "execution_count": 188,
   "id": "7549bb99",
   "metadata": {},
   "outputs": [
    {
     "name": "stdout",
     "output_type": "stream",
     "text": [
      "103學年的在職教師的最少人數的學歷為 專科百分比\n"
     ]
    }
   ],
   "source": [
    "df = df[df['教育階段'] == '總計']\n",
    "df = df[df['合計'] > 0] # 排除人數為 0 的列\n",
    "\n",
    "min_edu_count = df['合計'].min()\n",
    "min_edu_level = df.loc[df['合計'] == min_edu_count, '專科':'博士'].idxmin(axis=1).values[0]\n",
    "\n",
    "print(f\"103學年的在職教師的最少人數的學歷為 {min_edu_level}\")"
   ]
  },
  {
   "cell_type": "markdown",
   "id": "5382f05a",
   "metadata": {},
   "source": [
    "得出: 專科學歷的老師佔比最少"
   ]
  },
  {
   "cell_type": "markdown",
   "id": "1d67f6b5",
   "metadata": {},
   "source": [
    "# -------我是分隔線-------"
   ]
  },
  {
   "cell_type": "markdown",
   "id": "82de8f41",
   "metadata": {},
   "source": [
    "# -------"
   ]
  },
  {
   "cell_type": "markdown",
   "id": "39015f5c",
   "metadata": {},
   "source": [
    "# 大學學歷的教師任職於不同教育階段的分布"
   ]
  },
  {
   "cell_type": "code",
   "execution_count": 150,
   "id": "5d1714f7",
   "metadata": {},
   "outputs": [
    {
     "name": "stdout",
     "output_type": "stream",
     "text": [
      "教育階段\n",
      "總計    177146\n",
      "公立     70710\n",
      "私立     13806\n",
      "Name: 大學, dtype: int64\n"
     ]
    }
   ],
   "source": [
    "# 篩選只包含大學的行\n",
    "college_df = df[df['大學'] != 0]\n",
    "\n",
    "# 依照教育階段分組，季按教育阶段分组并计算大学人数总和\n",
    "college_by_education = college_df.groupby('教育階段')['大學'].sum()\n",
    "\n",
    "# 根据大学人数降序排列并输出结果\n",
    "college_ranking = college_by_education.sort_values(ascending=False)\n",
    "print(college_ranking)\n"
   ]
  },
  {
   "cell_type": "code",
   "execution_count": 151,
   "id": "219b02d5",
   "metadata": {},
   "outputs": [
    {
     "ename": "KeyError",
     "evalue": "'幼兒園'",
     "output_type": "error",
     "traceback": [
      "\u001b[1;31m---------------------------------------------------------------------------\u001b[0m",
      "\u001b[1;31mKeyError\u001b[0m                                  Traceback (most recent call last)",
      "\u001b[1;32m~\\AppData\\Local\\Temp\\ipykernel_572\\4082191190.py\u001b[0m in \u001b[0;36m<module>\u001b[1;34m\u001b[0m\n\u001b[0;32m      1\u001b[0m \u001b[0mcollege_df\u001b[0m \u001b[1;33m=\u001b[0m \u001b[0mdf\u001b[0m\u001b[1;33m[\u001b[0m\u001b[0mdf\u001b[0m\u001b[1;33m[\u001b[0m\u001b[1;34m'大學'\u001b[0m\u001b[1;33m]\u001b[0m \u001b[1;33m!=\u001b[0m \u001b[1;36m0\u001b[0m\u001b[1;33m]\u001b[0m\u001b[1;33m\u001b[0m\u001b[1;33m\u001b[0m\u001b[0m\n\u001b[0;32m      2\u001b[0m \u001b[1;33m\u001b[0m\u001b[0m\n\u001b[1;32m----> 3\u001b[1;33m \u001b[0mcollege_by_education_and_school\u001b[0m \u001b[1;33m=\u001b[0m \u001b[0mcollege_df\u001b[0m\u001b[1;33m.\u001b[0m\u001b[0mgroupby\u001b[0m\u001b[1;33m(\u001b[0m\u001b[1;33m[\u001b[0m\u001b[1;34m'幼兒園'\u001b[0m\u001b[1;33m,\u001b[0m\u001b[1;34m'國民小學'\u001b[0m\u001b[1;33m,\u001b[0m\u001b[1;34m'國民中學'\u001b[0m\u001b[1;33m,\u001b[0m\u001b[1;34m'高級中學'\u001b[0m\u001b[1;33m,\u001b[0m\u001b[1;34m'高級職業學校'\u001b[0m\u001b[1;33m,\u001b[0m\u001b[1;34m'特殊教育學校'\u001b[0m\u001b[1;33m,\u001b[0m\u001b[1;34m'矯正學校'\u001b[0m\u001b[1;33m]\u001b[0m\u001b[1;33m)\u001b[0m\u001b[1;33m[\u001b[0m\u001b[1;34m'大學'\u001b[0m\u001b[1;33m]\u001b[0m\u001b[1;33m.\u001b[0m\u001b[0msum\u001b[0m\u001b[1;33m(\u001b[0m\u001b[1;33m)\u001b[0m\u001b[1;33m\u001b[0m\u001b[1;33m\u001b[0m\u001b[0m\n\u001b[0m\u001b[0;32m      4\u001b[0m \u001b[1;33m\u001b[0m\u001b[0m\n\u001b[0;32m      5\u001b[0m \u001b[0mcollege_ranking\u001b[0m \u001b[1;33m=\u001b[0m \u001b[0mcollege_by_education_and_school\u001b[0m\u001b[1;33m.\u001b[0m\u001b[0msort_values\u001b[0m\u001b[1;33m(\u001b[0m\u001b[0mascending\u001b[0m\u001b[1;33m=\u001b[0m\u001b[1;32mFalse\u001b[0m\u001b[1;33m)\u001b[0m\u001b[1;33m\u001b[0m\u001b[1;33m\u001b[0m\u001b[0m\n",
      "\u001b[1;32m~\\anaconda3\\lib\\site-packages\\pandas\\core\\frame.py\u001b[0m in \u001b[0;36mgroupby\u001b[1;34m(self, by, axis, level, as_index, sort, group_keys, squeeze, observed, dropna)\u001b[0m\n\u001b[0;32m   7719\u001b[0m         \u001b[1;31m# error: Argument \"squeeze\" to \"DataFrameGroupBy\" has incompatible type\u001b[0m\u001b[1;33m\u001b[0m\u001b[1;33m\u001b[0m\u001b[0m\n\u001b[0;32m   7720\u001b[0m         \u001b[1;31m# \"Union[bool, NoDefault]\"; expected \"bool\"\u001b[0m\u001b[1;33m\u001b[0m\u001b[1;33m\u001b[0m\u001b[0m\n\u001b[1;32m-> 7721\u001b[1;33m         return DataFrameGroupBy(\n\u001b[0m\u001b[0;32m   7722\u001b[0m             \u001b[0mobj\u001b[0m\u001b[1;33m=\u001b[0m\u001b[0mself\u001b[0m\u001b[1;33m,\u001b[0m\u001b[1;33m\u001b[0m\u001b[1;33m\u001b[0m\u001b[0m\n\u001b[0;32m   7723\u001b[0m             \u001b[0mkeys\u001b[0m\u001b[1;33m=\u001b[0m\u001b[0mby\u001b[0m\u001b[1;33m,\u001b[0m\u001b[1;33m\u001b[0m\u001b[1;33m\u001b[0m\u001b[0m\n",
      "\u001b[1;32m~\\anaconda3\\lib\\site-packages\\pandas\\core\\groupby\\groupby.py\u001b[0m in \u001b[0;36m__init__\u001b[1;34m(self, obj, keys, axis, level, grouper, exclusions, selection, as_index, sort, group_keys, squeeze, observed, mutated, dropna)\u001b[0m\n\u001b[0;32m    880\u001b[0m             \u001b[1;32mfrom\u001b[0m \u001b[0mpandas\u001b[0m\u001b[1;33m.\u001b[0m\u001b[0mcore\u001b[0m\u001b[1;33m.\u001b[0m\u001b[0mgroupby\u001b[0m\u001b[1;33m.\u001b[0m\u001b[0mgrouper\u001b[0m \u001b[1;32mimport\u001b[0m \u001b[0mget_grouper\u001b[0m\u001b[1;33m\u001b[0m\u001b[1;33m\u001b[0m\u001b[0m\n\u001b[0;32m    881\u001b[0m \u001b[1;33m\u001b[0m\u001b[0m\n\u001b[1;32m--> 882\u001b[1;33m             grouper, exclusions, obj = get_grouper(\n\u001b[0m\u001b[0;32m    883\u001b[0m                 \u001b[0mobj\u001b[0m\u001b[1;33m,\u001b[0m\u001b[1;33m\u001b[0m\u001b[1;33m\u001b[0m\u001b[0m\n\u001b[0;32m    884\u001b[0m                 \u001b[0mkeys\u001b[0m\u001b[1;33m,\u001b[0m\u001b[1;33m\u001b[0m\u001b[1;33m\u001b[0m\u001b[0m\n",
      "\u001b[1;32m~\\anaconda3\\lib\\site-packages\\pandas\\core\\groupby\\grouper.py\u001b[0m in \u001b[0;36mget_grouper\u001b[1;34m(obj, key, axis, level, sort, observed, mutated, validate, dropna)\u001b[0m\n\u001b[0;32m    880\u001b[0m                 \u001b[0min_axis\u001b[0m\u001b[1;33m,\u001b[0m \u001b[0mlevel\u001b[0m\u001b[1;33m,\u001b[0m \u001b[0mgpr\u001b[0m \u001b[1;33m=\u001b[0m \u001b[1;32mFalse\u001b[0m\u001b[1;33m,\u001b[0m \u001b[0mgpr\u001b[0m\u001b[1;33m,\u001b[0m \u001b[1;32mNone\u001b[0m\u001b[1;33m\u001b[0m\u001b[1;33m\u001b[0m\u001b[0m\n\u001b[0;32m    881\u001b[0m             \u001b[1;32melse\u001b[0m\u001b[1;33m:\u001b[0m\u001b[1;33m\u001b[0m\u001b[1;33m\u001b[0m\u001b[0m\n\u001b[1;32m--> 882\u001b[1;33m                 \u001b[1;32mraise\u001b[0m \u001b[0mKeyError\u001b[0m\u001b[1;33m(\u001b[0m\u001b[0mgpr\u001b[0m\u001b[1;33m)\u001b[0m\u001b[1;33m\u001b[0m\u001b[1;33m\u001b[0m\u001b[0m\n\u001b[0m\u001b[0;32m    883\u001b[0m         \u001b[1;32melif\u001b[0m \u001b[0misinstance\u001b[0m\u001b[1;33m(\u001b[0m\u001b[0mgpr\u001b[0m\u001b[1;33m,\u001b[0m \u001b[0mGrouper\u001b[0m\u001b[1;33m)\u001b[0m \u001b[1;32mand\u001b[0m \u001b[0mgpr\u001b[0m\u001b[1;33m.\u001b[0m\u001b[0mkey\u001b[0m \u001b[1;32mis\u001b[0m \u001b[1;32mnot\u001b[0m \u001b[1;32mNone\u001b[0m\u001b[1;33m:\u001b[0m\u001b[1;33m\u001b[0m\u001b[1;33m\u001b[0m\u001b[0m\n\u001b[0;32m    884\u001b[0m             \u001b[1;31m# Add key to exclusions\u001b[0m\u001b[1;33m\u001b[0m\u001b[1;33m\u001b[0m\u001b[0m\n",
      "\u001b[1;31mKeyError\u001b[0m: '幼兒園'"
     ]
    }
   ],
   "source": [
    "college_df = df[df['大學'] != 0]\n",
    "\n",
    "college_by_education_and_school = college_df.groupby(['幼兒園','國民小學','國民中學','高級中學','高級職業學校','特殊教育學校','矯正學校'])['大學'].sum()\n",
    "\n",
    "college_ranking = college_by_education_and_school.sort_values(ascending=False)\n",
    "print(college_ranking)\n"
   ]
  }
 ],
 "metadata": {
  "kernelspec": {
   "display_name": "Python 3 (ipykernel)",
   "language": "python",
   "name": "python3"
  },
  "language_info": {
   "codemirror_mode": {
    "name": "ipython",
    "version": 3
   },
   "file_extension": ".py",
   "mimetype": "text/x-python",
   "name": "python",
   "nbconvert_exporter": "python",
   "pygments_lexer": "ipython3",
   "version": "3.9.13"
  }
 },
 "nbformat": 4,
 "nbformat_minor": 5
}
