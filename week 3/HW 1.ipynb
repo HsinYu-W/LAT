{
 "cells": [
  {
   "cell_type": "code",
   "execution_count": 27,
   "id": "20cf0999",
   "metadata": {
    "scrolled": true
   },
   "outputs": [
    {
     "data": {
      "text/html": [
       "<div>\n",
       "<style scoped>\n",
       "    .dataframe tbody tr th:only-of-type {\n",
       "        vertical-align: middle;\n",
       "    }\n",
       "\n",
       "    .dataframe tbody tr th {\n",
       "        vertical-align: top;\n",
       "    }\n",
       "\n",
       "    .dataframe thead th {\n",
       "        text-align: right;\n",
       "    }\n",
       "</style>\n",
       "<table border=\"1\" class=\"dataframe\">\n",
       "  <thead>\n",
       "    <tr style=\"text-align: right;\">\n",
       "      <th></th>\n",
       "      <th>教育階段</th>\n",
       "      <th>公私立別</th>\n",
       "      <th>合計</th>\n",
       "      <th>專科</th>\n",
       "      <th>專科百分比</th>\n",
       "      <th>大學</th>\n",
       "      <th>大學百分比</th>\n",
       "      <th>碩士</th>\n",
       "      <th>碩士百分比</th>\n",
       "      <th>博士</th>\n",
       "      <th>博士百分比</th>\n",
       "    </tr>\n",
       "  </thead>\n",
       "  <tbody>\n",
       "    <tr>\n",
       "      <th>0</th>\n",
       "      <td>103年度</td>\n",
       "      <td>總計</td>\n",
       "      <td>194717</td>\n",
       "      <td>1362</td>\n",
       "      <td>0.70</td>\n",
       "      <td>92630</td>\n",
       "      <td>47.57</td>\n",
       "      <td>98331</td>\n",
       "      <td>50.50</td>\n",
       "      <td>2394</td>\n",
       "      <td>1.23</td>\n",
       "    </tr>\n",
       "    <tr>\n",
       "      <th>1</th>\n",
       "      <td>104年度</td>\n",
       "      <td>總計</td>\n",
       "      <td>192035</td>\n",
       "      <td>1248</td>\n",
       "      <td>0.65</td>\n",
       "      <td>84516</td>\n",
       "      <td>44.01</td>\n",
       "      <td>103709</td>\n",
       "      <td>54.01</td>\n",
       "      <td>2562</td>\n",
       "      <td>1.33</td>\n",
       "    </tr>\n",
       "    <tr>\n",
       "      <th>2</th>\n",
       "      <td>104年度</td>\n",
       "      <td>公立</td>\n",
       "      <td>168631</td>\n",
       "      <td>309</td>\n",
       "      <td>0.18</td>\n",
       "      <td>70710</td>\n",
       "      <td>41.93</td>\n",
       "      <td>95234</td>\n",
       "      <td>56.47</td>\n",
       "      <td>2378</td>\n",
       "      <td>1.41</td>\n",
       "    </tr>\n",
       "    <tr>\n",
       "      <th>3</th>\n",
       "      <td>104年度</td>\n",
       "      <td>私立</td>\n",
       "      <td>23404</td>\n",
       "      <td>939</td>\n",
       "      <td>4.01</td>\n",
       "      <td>13806</td>\n",
       "      <td>58.99</td>\n",
       "      <td>8475</td>\n",
       "      <td>36.21</td>\n",
       "      <td>184</td>\n",
       "      <td>0.79</td>\n",
       "    </tr>\n",
       "    <tr>\n",
       "      <th>4</th>\n",
       "      <td>幼兒園</td>\n",
       "      <td>小計</td>\n",
       "      <td>12113</td>\n",
       "      <td>944</td>\n",
       "      <td>7.79</td>\n",
       "      <td>8640</td>\n",
       "      <td>71.33</td>\n",
       "      <td>2514</td>\n",
       "      <td>20.75</td>\n",
       "      <td>15</td>\n",
       "      <td>0.12</td>\n",
       "    </tr>\n",
       "  </tbody>\n",
       "</table>\n",
       "</div>"
      ],
      "text/plain": [
       "    教育階段 公私立別      合計    專科  專科百分比     大學  大學百分比      碩士  碩士百分比    博士  博士百分比\n",
       "0  103年度   總計  194717  1362   0.70  92630  47.57   98331  50.50  2394   1.23\n",
       "1  104年度   總計  192035  1248   0.65  84516  44.01  103709  54.01  2562   1.33\n",
       "2  104年度   公立  168631   309   0.18  70710  41.93   95234  56.47  2378   1.41\n",
       "3  104年度   私立   23404   939   4.01  13806  58.99    8475  36.21   184   0.79\n",
       "4    幼兒園   小計   12113   944   7.79   8640  71.33    2514  20.75    15   0.12"
      ]
     },
     "execution_count": 27,
     "metadata": {},
     "output_type": "execute_result"
    }
   ],
   "source": [
    "import pandas as pd\n",
    "\n",
    "# 讀取資料\n",
    "df = pd.read_csv('104年在職教師學歷、公私立別、教育階段之情況.csv')\n",
    "df.head()"
   ]
  },
  {
   "cell_type": "markdown",
   "id": "4665c532",
   "metadata": {},
   "source": [
    "# Q1: 104年度的公立和私立學校的大學學歷的教師差異？"
   ]
  },
  {
   "cell_type": "code",
   "execution_count": 29,
   "id": "483e62f1",
   "metadata": {},
   "outputs": [
    {
     "name": "stdout",
     "output_type": "stream",
     "text": [
      "公立學校大學學歷百分比：41.93%\n",
      "私立學校大學學歷百分比：58.99%\n"
     ]
    }
   ],
   "source": [
    "# 取出 104 年度的資料\n",
    "df_104 = df[df['教育階段'] == '104年度']\n",
    "\n",
    "# 取出公立學校的資料\n",
    "df_public = df_104[df_104['公私立別'] == '公立']\n",
    "\n",
    "# 取出私立學校的資料\n",
    "df_private = df_104[df_104['公私立別'] == '私立']\n",
    "\n",
    "# 計算公立學校和私立學校各自的大學百分比\n",
    "public_college_percentage = df_public['大學百分比'].sum()\n",
    "private_college_percentage = df_private['大學百分比'].sum()\n",
    "\n",
    "# 計算結果\n",
    "print('公立學校大學學歷百分比：{:.2f}%'.format(public_college_percentage))\n",
    "print('私立學校大學學歷百分比：{:.2f}%'.format(private_college_percentage))"
   ]
  },
  {
   "cell_type": "markdown",
   "id": "e7de78a0",
   "metadata": {},
   "source": [
    "得出: 大學學歷的教師，任職於私立學校的比例較高"
   ]
  },
  {
   "cell_type": "markdown",
   "id": "345d0074",
   "metadata": {},
   "source": [
    "# Q2: 任職於何種教育階段中的大學學歷教師比例最高？"
   ]
  },
  {
   "cell_type": "code",
   "execution_count": 36,
   "id": "cd1284e8",
   "metadata": {},
   "outputs": [
    {
     "name": "stdout",
     "output_type": "stream",
     "text": [
      "大學比例最高的教育階段為 幼兒園\n"
     ]
    }
   ],
   "source": [
    "# 刪除 \"103年度\" 和 \"104年度\" 的資料\n",
    "df = df[~df['教育階段'].isin(['103年度', '104年度'])]\n",
    "\n",
    "# 以 \"教育階段\" 為分組，計算大學百分比平均值\n",
    "univ_pct_mean_by_edu_level = df.groupby('教育階段')['大學百分比'].mean()\n",
    "\n",
    "# 取出大學比例最高的教育階段\n",
    "max_univ_pct_edu_level = univ_pct_mean_by_edu_level.idxmax()\n",
    "\n",
    "print(f\"大學比例最高的教育階段為 {max_univ_pct_edu_level}\")"
   ]
  },
  {
   "cell_type": "markdown",
   "id": "8420a0e5",
   "metadata": {},
   "source": [
    "得出: 大學學歷的教師，最多任職於幼兒園"
   ]
  },
  {
   "cell_type": "markdown",
   "id": "a50c0388",
   "metadata": {},
   "source": [
    "# Q3: 任職於何種教育階段中的碩士學歷教師比例最高？"
   ]
  },
  {
   "cell_type": "code",
   "execution_count": 42,
   "id": "9b92b8c3",
   "metadata": {},
   "outputs": [
    {
     "name": "stdout",
     "output_type": "stream",
     "text": [
      "碩士比例最高的教育階段是：高級職業學校，碩士比例為：69.21%\n"
     ]
    }
   ],
   "source": [
    "# 去除103年度和104年度的資料\n",
    "df = df[(df['教育階段'] != '103年度') & (df['教育階段'] != '104年度')]\n",
    "\n",
    "# 依照碩士比例排序，取出碩士比例最高的一筆\n",
    "highest_master = df.sort_values(by='碩士百分比', ascending=False).iloc[0]\n",
    "\n",
    "print(f\"碩士比例最高的教育階段是：{highest_master['教育階段']}，碩士比例為：{highest_master['碩士百分比']}%\")\n"
   ]
  },
  {
   "cell_type": "markdown",
   "id": "0e2fe59a",
   "metadata": {},
   "source": [
    "得出: 碩士學歷的教師，最多任職於高職"
   ]
  },
  {
   "cell_type": "markdown",
   "id": "982e1d37",
   "metadata": {},
   "source": [
    "# Q4: 任職於何種教育階段中的博士學歷教師比例最高？"
   ]
  },
  {
   "cell_type": "code",
   "execution_count": 43,
   "id": "6bf317a1",
   "metadata": {},
   "outputs": [
    {
     "name": "stdout",
     "output_type": "stream",
     "text": [
      "博士比例最高的教育階段是：矯正學校，博士比例為：5.19%\n"
     ]
    }
   ],
   "source": [
    "# 刪除 \"103年度\" 和 \"104年度\" 的資料\n",
    "df = df[~df['教育階段'].isin(['103年度', '104年度'])]\n",
    "\n",
    "# 依照博士比例排序，取出博士比例最高的一筆\n",
    "highest_phD = df.sort_values(by='博士百分比', ascending=False).iloc[0]\n",
    "\n",
    "print(f\"博士比例最高的教育階段是：{highest_phD['教育階段']}，博士比例為：{highest_phD['博士百分比']}%\")\n"
   ]
  },
  {
   "cell_type": "markdown",
   "id": "85b46beb",
   "metadata": {},
   "source": [
    "得出: 博士學歷的老師，最多任職於矯正學校"
   ]
  },
  {
   "cell_type": "markdown",
   "id": "68ad5577",
   "metadata": {},
   "source": [
    "# Q5: 何種年齡層的教師任職於高中的人數最多?"
   ]
  },
  {
   "cell_type": "code",
   "execution_count": 68,
   "id": "e09b0479",
   "metadata": {},
   "outputs": [
    {
     "data": {
      "text/html": [
       "<div>\n",
       "<style scoped>\n",
       "    .dataframe tbody tr th:only-of-type {\n",
       "        vertical-align: middle;\n",
       "    }\n",
       "\n",
       "    .dataframe tbody tr th {\n",
       "        vertical-align: top;\n",
       "    }\n",
       "\n",
       "    .dataframe thead th {\n",
       "        text-align: right;\n",
       "    }\n",
       "</style>\n",
       "<table border=\"1\" class=\"dataframe\">\n",
       "  <thead>\n",
       "    <tr style=\"text-align: right;\">\n",
       "      <th></th>\n",
       "      <th>年齡層</th>\n",
       "      <th>總計</th>\n",
       "      <th>百分比</th>\n",
       "      <th>合計公立</th>\n",
       "      <th>合計私立</th>\n",
       "      <th>幼兒園公立</th>\n",
       "      <th>幼兒園私立</th>\n",
       "      <th>國民小學公立</th>\n",
       "      <th>國民小學私立</th>\n",
       "      <th>國民中學公立</th>\n",
       "      <th>國民中學私立</th>\n",
       "      <th>高級中學公立</th>\n",
       "      <th>高級中學私立</th>\n",
       "      <th>高級職業學校公立</th>\n",
       "      <th>高級職業學校私立</th>\n",
       "      <th>特殊教育學校公立</th>\n",
       "      <th>矯正學校公立</th>\n",
       "    </tr>\n",
       "  </thead>\n",
       "  <tbody>\n",
       "    <tr>\n",
       "      <th>0</th>\n",
       "      <td>103年度</td>\n",
       "      <td>194,717</td>\n",
       "      <td>0.00</td>\n",
       "      <td>170,541</td>\n",
       "      <td>24,176</td>\n",
       "      <td>5,255</td>\n",
       "      <td>6,600</td>\n",
       "      <td>86,746</td>\n",
       "      <td>1,499</td>\n",
       "      <td>44,996</td>\n",
       "      <td>511.00</td>\n",
       "      <td>21,498</td>\n",
       "      <td>11,889</td>\n",
       "      <td>10,433</td>\n",
       "      <td>3,677</td>\n",
       "      <td>1,537</td>\n",
       "      <td>76.00</td>\n",
       "    </tr>\n",
       "    <tr>\n",
       "      <th>1</th>\n",
       "      <td>104年度</td>\n",
       "      <td>192,035</td>\n",
       "      <td>100.00</td>\n",
       "      <td>168,631</td>\n",
       "      <td>23,404</td>\n",
       "      <td>5,790</td>\n",
       "      <td>6,323</td>\n",
       "      <td>85,349</td>\n",
       "      <td>1,499</td>\n",
       "      <td>44,033</td>\n",
       "      <td>386.00</td>\n",
       "      <td>21,465</td>\n",
       "      <td>11,770</td>\n",
       "      <td>10,391</td>\n",
       "      <td>3,426</td>\n",
       "      <td>1,526</td>\n",
       "      <td>77.00</td>\n",
       "    </tr>\n",
       "    <tr>\n",
       "      <th>2</th>\n",
       "      <td>平均年齡</td>\n",
       "      <td>41.58</td>\n",
       "      <td>0.00</td>\n",
       "      <td>41.49</td>\n",
       "      <td>42.22</td>\n",
       "      <td>40.04</td>\n",
       "      <td>42.1</td>\n",
       "      <td>42.25</td>\n",
       "      <td>38.26</td>\n",
       "      <td>40.27</td>\n",
       "      <td>41.05</td>\n",
       "      <td>41.26</td>\n",
       "      <td>42.6</td>\n",
       "      <td>41.9</td>\n",
       "      <td>43.02</td>\n",
       "      <td>39.66</td>\n",
       "      <td>43.38</td>\n",
       "    </tr>\n",
       "    <tr>\n",
       "      <th>3</th>\n",
       "      <td>22-29</td>\n",
       "      <td>11,211</td>\n",
       "      <td>5.84</td>\n",
       "      <td>9,213</td>\n",
       "      <td>1,998</td>\n",
       "      <td>895</td>\n",
       "      <td>685</td>\n",
       "      <td>2,881</td>\n",
       "      <td>138</td>\n",
       "      <td>3,361</td>\n",
       "      <td>25.00</td>\n",
       "      <td>1,319</td>\n",
       "      <td>920</td>\n",
       "      <td>553</td>\n",
       "      <td>230</td>\n",
       "      <td>202</td>\n",
       "      <td>2.00</td>\n",
       "    </tr>\n",
       "    <tr>\n",
       "      <th>4</th>\n",
       "      <td>30-34</td>\n",
       "      <td>24,713</td>\n",
       "      <td>12.87</td>\n",
       "      <td>21,212</td>\n",
       "      <td>3,501</td>\n",
       "      <td>839</td>\n",
       "      <td>822</td>\n",
       "      <td>8,340</td>\n",
       "      <td>434</td>\n",
       "      <td>7,009</td>\n",
       "      <td>58.00</td>\n",
       "      <td>3,196</td>\n",
       "      <td>1,732</td>\n",
       "      <td>1,510</td>\n",
       "      <td>455</td>\n",
       "      <td>312</td>\n",
       "      <td>6.00</td>\n",
       "    </tr>\n",
       "  </tbody>\n",
       "</table>\n",
       "</div>"
      ],
      "text/plain": [
       "     年齡層       總計     百分比     合計公立    合計私立  幼兒園公立  幼兒園私立  國民小學公立 國民小學私立  \\\n",
       "0  103年度  194,717    0.00  170,541  24,176  5,255  6,600  86,746  1,499   \n",
       "1  104年度  192,035  100.00  168,631  23,404  5,790  6,323  85,349  1,499   \n",
       "2   平均年齡    41.58    0.00    41.49   42.22  40.04   42.1   42.25  38.26   \n",
       "3  22-29   11,211    5.84    9,213   1,998    895    685   2,881    138   \n",
       "4  30-34   24,713   12.87   21,212   3,501    839    822   8,340    434   \n",
       "\n",
       "   國民中學公立  國民中學私立  高級中學公立  高級中學私立 高級職業學校公立 高級職業學校私立 特殊教育學校公立  矯正學校公立  \n",
       "0  44,996  511.00  21,498  11,889   10,433    3,677    1,537   76.00  \n",
       "1  44,033  386.00  21,465  11,770   10,391    3,426    1,526   77.00  \n",
       "2   40.27   41.05   41.26    42.6     41.9    43.02    39.66   43.38  \n",
       "3   3,361   25.00   1,319     920      553      230      202    2.00  \n",
       "4   7,009   58.00   3,196   1,732    1,510      455      312    6.00  "
      ]
     },
     "execution_count": 68,
     "metadata": {},
     "output_type": "execute_result"
    }
   ],
   "source": [
    "# 讀取資料\n",
    "df2 = pd.read_csv('104年在職教師年齡層、各教育階段公私立別人數之情況.csv')\n",
    "df2.head()"
   ]
  },
  {
   "cell_type": "code",
   "execution_count": 70,
   "id": "8d93529d",
   "metadata": {},
   "outputs": [
    {
     "ename": "KeyError",
     "evalue": "'Column not found: 高級中學 公立,高級中學 私立'",
     "output_type": "error",
     "traceback": [
      "\u001b[1;31m---------------------------------------------------------------------------\u001b[0m",
      "\u001b[1;31mKeyError\u001b[0m                                  Traceback (most recent call last)",
      "\u001b[1;32m~\\AppData\\Local\\Temp\\ipykernel_572\\1663750420.py\u001b[0m in \u001b[0;36m<module>\u001b[1;34m\u001b[0m\n\u001b[0;32m      3\u001b[0m \u001b[1;33m\u001b[0m\u001b[0m\n\u001b[0;32m      4\u001b[0m \u001b[1;31m# 以 \"教育階段\" 為分組，計算大學百分比平均值\u001b[0m\u001b[1;33m\u001b[0m\u001b[1;33m\u001b[0m\u001b[0m\n\u001b[1;32m----> 5\u001b[1;33m \u001b[0muniv_pct_mean_by_edu_level\u001b[0m \u001b[1;33m=\u001b[0m \u001b[0mdf\u001b[0m\u001b[1;33m.\u001b[0m\u001b[0mgroupby\u001b[0m\u001b[1;33m(\u001b[0m\u001b[1;34m'年齡層'\u001b[0m\u001b[1;33m)\u001b[0m\u001b[1;33m[\u001b[0m\u001b[1;34m'高級中學 公立,高級中學 私立'\u001b[0m\u001b[1;33m]\u001b[0m\u001b[1;33m.\u001b[0m\u001b[0mmean\u001b[0m\u001b[1;33m(\u001b[0m\u001b[1;33m)\u001b[0m\u001b[1;33m\u001b[0m\u001b[1;33m\u001b[0m\u001b[0m\n\u001b[0m\u001b[0;32m      6\u001b[0m \u001b[1;33m\u001b[0m\u001b[0m\n\u001b[0;32m      7\u001b[0m \u001b[1;31m# 取出大學比例最高的教育階段\u001b[0m\u001b[1;33m\u001b[0m\u001b[1;33m\u001b[0m\u001b[0m\n",
      "\u001b[1;32m~\\anaconda3\\lib\\site-packages\\pandas\\core\\groupby\\generic.py\u001b[0m in \u001b[0;36m__getitem__\u001b[1;34m(self, key)\u001b[0m\n\u001b[0;32m   1336\u001b[0m                 \u001b[0mstacklevel\u001b[0m\u001b[1;33m=\u001b[0m\u001b[0mfind_stack_level\u001b[0m\u001b[1;33m(\u001b[0m\u001b[1;33m)\u001b[0m\u001b[1;33m,\u001b[0m\u001b[1;33m\u001b[0m\u001b[1;33m\u001b[0m\u001b[0m\n\u001b[0;32m   1337\u001b[0m             )\n\u001b[1;32m-> 1338\u001b[1;33m         \u001b[1;32mreturn\u001b[0m \u001b[0msuper\u001b[0m\u001b[1;33m(\u001b[0m\u001b[1;33m)\u001b[0m\u001b[1;33m.\u001b[0m\u001b[0m__getitem__\u001b[0m\u001b[1;33m(\u001b[0m\u001b[0mkey\u001b[0m\u001b[1;33m)\u001b[0m\u001b[1;33m\u001b[0m\u001b[1;33m\u001b[0m\u001b[0m\n\u001b[0m\u001b[0;32m   1339\u001b[0m \u001b[1;33m\u001b[0m\u001b[0m\n\u001b[0;32m   1340\u001b[0m     \u001b[1;32mdef\u001b[0m \u001b[0m_gotitem\u001b[0m\u001b[1;33m(\u001b[0m\u001b[0mself\u001b[0m\u001b[1;33m,\u001b[0m \u001b[0mkey\u001b[0m\u001b[1;33m,\u001b[0m \u001b[0mndim\u001b[0m\u001b[1;33m:\u001b[0m \u001b[0mint\u001b[0m\u001b[1;33m,\u001b[0m \u001b[0msubset\u001b[0m\u001b[1;33m=\u001b[0m\u001b[1;32mNone\u001b[0m\u001b[1;33m)\u001b[0m\u001b[1;33m:\u001b[0m\u001b[1;33m\u001b[0m\u001b[1;33m\u001b[0m\u001b[0m\n",
      "\u001b[1;32m~\\anaconda3\\lib\\site-packages\\pandas\\core\\base.py\u001b[0m in \u001b[0;36m__getitem__\u001b[1;34m(self, key)\u001b[0m\n\u001b[0;32m    248\u001b[0m         \u001b[1;32melse\u001b[0m\u001b[1;33m:\u001b[0m\u001b[1;33m\u001b[0m\u001b[1;33m\u001b[0m\u001b[0m\n\u001b[0;32m    249\u001b[0m             \u001b[1;32mif\u001b[0m \u001b[0mkey\u001b[0m \u001b[1;32mnot\u001b[0m \u001b[1;32min\u001b[0m \u001b[0mself\u001b[0m\u001b[1;33m.\u001b[0m\u001b[0mobj\u001b[0m\u001b[1;33m:\u001b[0m\u001b[1;33m\u001b[0m\u001b[1;33m\u001b[0m\u001b[0m\n\u001b[1;32m--> 250\u001b[1;33m                 \u001b[1;32mraise\u001b[0m \u001b[0mKeyError\u001b[0m\u001b[1;33m(\u001b[0m\u001b[1;34mf\"Column not found: {key}\"\u001b[0m\u001b[1;33m)\u001b[0m\u001b[1;33m\u001b[0m\u001b[1;33m\u001b[0m\u001b[0m\n\u001b[0m\u001b[0;32m    251\u001b[0m             \u001b[0msubset\u001b[0m \u001b[1;33m=\u001b[0m \u001b[0mself\u001b[0m\u001b[1;33m.\u001b[0m\u001b[0mobj\u001b[0m\u001b[1;33m[\u001b[0m\u001b[0mkey\u001b[0m\u001b[1;33m]\u001b[0m\u001b[1;33m\u001b[0m\u001b[1;33m\u001b[0m\u001b[0m\n\u001b[0;32m    252\u001b[0m             \u001b[0mndim\u001b[0m \u001b[1;33m=\u001b[0m \u001b[0msubset\u001b[0m\u001b[1;33m.\u001b[0m\u001b[0mndim\u001b[0m\u001b[1;33m\u001b[0m\u001b[1;33m\u001b[0m\u001b[0m\n",
      "\u001b[1;31mKeyError\u001b[0m: 'Column not found: 高級中學 公立,高級中學 私立'"
     ]
    }
   ],
   "source": [
    "# 刪除 \"103年度\" 和 \"104年度\" 的資料\n",
    "df = df[~df['年齡層'].isin(['103年度', '104年度','平均年齡'])]\n",
    "\n",
    "# 以 \"教育階段\" 為分組，計算大學百分比平均值\n",
    "univ_pct_mean_by_edu_level = df.groupby('年齡層')['高級中學公立,高級中學私立'].mean()\n",
    "\n",
    "# 取出大學比例最高的教育階段\n",
    "max_univ_pct_edu_level = univ_pct_mean_by_edu_level.idxmax()\n",
    "\n",
    "print(f\"大學比例最高的教育階段為 {max_univ_pct_edu_level}\")"
   ]
  },
  {
   "cell_type": "code",
   "execution_count": null,
   "id": "7d784429",
   "metadata": {},
   "outputs": [],
   "source": []
  }
 ],
 "metadata": {
  "kernelspec": {
   "display_name": "Python 3 (ipykernel)",
   "language": "python",
   "name": "python3"
  },
  "language_info": {
   "codemirror_mode": {
    "name": "ipython",
    "version": 3
   },
   "file_extension": ".py",
   "mimetype": "text/x-python",
   "name": "python",
   "nbconvert_exporter": "python",
   "pygments_lexer": "ipython3",
   "version": "3.9.13"
  }
 },
 "nbformat": 4,
 "nbformat_minor": 5
}
