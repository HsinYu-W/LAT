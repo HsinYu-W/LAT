{
 "cells": [
  {
   "cell_type": "code",
   "execution_count": 63,
   "id": "19d54095",
   "metadata": {},
   "outputs": [],
   "source": [
    "import openai\n",
    "import pandas as pd"
   ]
  },
  {
   "cell_type": "code",
   "execution_count": 46,
   "id": "23023f9c",
   "metadata": {},
   "outputs": [],
   "source": [
    "with open(\"001.txt\", \"r\", encoding='utf-8') as fh:\n",
    "    tmp = fh.read()\n",
    "    itemlist = tmp.split(\",\")"
   ]
  },
  {
   "cell_type": "code",
   "execution_count": 64,
   "id": "9fc30730",
   "metadata": {},
   "outputs": [],
   "source": [
    "with open(\"002.txt\", \"r\", encoding='utf-8') as fh:\n",
    "    tmp = fh.read()\n",
    "    itemlist = tmp.split(\",\")"
   ]
  },
  {
   "cell_type": "code",
   "execution_count": 77,
   "id": "3e9caedf",
   "metadata": {},
   "outputs": [],
   "source": [
    "with open(\"003.txt\", \"r\", encoding='utf-8') as fh:\n",
    "    tmp = fh.read()\n",
    "    itemlist = tmp.split(\",\")"
   ]
  },
  {
   "cell_type": "code",
   "execution_count": 78,
   "id": "7398f9e3",
   "metadata": {},
   "outputs": [],
   "source": [
    "itemlist = str(itemlist)"
   ]
  },
  {
   "cell_type": "code",
   "execution_count": 79,
   "id": "154046e7",
   "metadata": {},
   "outputs": [],
   "source": [
    "keyfile = open(\"realkey.txt\", \"r\")\n",
    "key = keyfile.readline()\n",
    "openai.api_key = key"
   ]
  },
  {
   "cell_type": "code",
   "execution_count": 80,
   "id": "04194091",
   "metadata": {},
   "outputs": [],
   "source": [
    "data = [itemlist[0:3200], itemlist[3201:6400], \n",
    "        itemlist[6401:9600], itemlist[9601:12800], itemlist[12801:16000]]"
   ]
  },
  {
   "cell_type": "code",
   "execution_count": 81,
   "id": "c7e72756",
   "metadata": {
    "scrolled": true
   },
   "outputs": [
    {
     "data": {
      "text/plain": [
       "\"['See discussions', ' stats', ' and author profiles for this publication at: https://www.researchgate.net/publication/350736150\\\\n\\\\nKey Success Factors (KSFs) Underlying the Adoption of Social Media Marketing\\\\n\\\\nTechnology\\\\n\\\\nArticle in SAGE Open · April 2021\\\\n\\\\nDOI: 10.1177/21582440211006695\\\\n\\\\nCITATIONS\\\\n\\\\nREADS\\\\n\\\\n14\\\\n\\\\n493\\\\n\\\\n3 authors:\\\\n\\\\nSunday C. Eze\\\\n\\\\nVera Chinwedu Chinedu-Eze\\\\n\\\\nBowen University\\\\n\\\\nMichael Okpara University of Agriculture', ' Umudike\\\\n\\\\n64 PUBLICATIONS 939 CITATIONS\\\\n\\\\n22 PUBLICATIONS 418 CITATIONS\\\\n\\\\nSEE PROFILE\\\\n\\\\nSEE PROFILE\\\\n\\\\nHart O. Awa\\\\n\\\\nUniversity of Port Harcourt\\\\n\\\\n50 PUBLICATIONS 1', '523 CITATIONS\\\\n\\\\nSEE PROFILE\\\\n\\\\nSome of the authors of this publication are also working on these related projects: Article View project\\\\n\\\\nE-learning in higher education View project\\\\n\\\\nAll content following this page was uploaded by Sunday C. Eze on 08 April 2021.\\\\n\\\\nThe user has requested enhancement of the downloaded file.\\\\n\\\\n\\\\n\\\\n\\\\n\\\\n1006695SGOXXX10.1177/21582440211006695SAGE OpenEze et al.\\\\n\\\\nresearch-article 20212021\\\\n\\\\nOriginal Research\\\\n\\\\nSAGE Open\\\\n\\\\nApril-June 2021: 1 –15\\\\n\\\\nKey Success Factors (KSFs) Underlying\\\\n\\\\n© The Author(s) 2021\\\\n\\\\nhttps://doi.org/10.1177/21582440211006695\\\\n\\\\nDOI: 10.1177/21582440211006695\\\\n\\\\njournals.sagepub.com/home/sgo\\\\n\\\\nthe Adoption of Social Media Marketing\\\\n\\\\n\\\\n\\\\n\\\\n\\\\nTechnology\\\\n\\\\n\\\\nSunday C. Eze1 ', ' Vera C. A. Chinedu-Eze2', ' and\\\\n\\\\nHart O. Awa3\\\\n\\\\n\\\\n\\\\n\\\\n\\\\nAbstract\\\\n\\\\n\\\\nIn developing world', ' most decisions by Micro', ' Small', ' and Medium Enterprises (MSMEs) to adopt social media marketing technology (SMMT) rely heavily on study findings from the Western World without much recourse to cross-context differences in structure and managerial capabilities. Thus', ' the lack of inquiries that provide complete guideline on the adoption of SMMT in developing economies hinders the development of integrated framework(s) that explains MSMEs’ successful adoption. The study used technology–organization–environment (T-O-E) framework as the theoretical basis to examine the critical factors that stimulate MSMEs adoption of SMMT in Nigeria. The adopted methodological choice was qualitative', ' involving interviews with 20 participants selected from the online directories via purposive and snowball sampling techniques.\\\\n\\\\nHowever', ' thematic analysis was the data treatment technique; and the study extended the T-O-E framework to provide an understanding into the dominant factors that specifically influence MSMEs’ adoption', ' without losing sight of vendors who would rely on the extended framework to get audiences continually satisfied.\\\\n\\\\n\\\\n\\\\n\\\\n\\\\nKeywords\\\\n\\\\n\\\\nSMEs', ' KSFs', ' adoption', ' social media', ' marketing', ' technology Introduction\\\\n\\\\ncall for nascent digital frameworks and marketing strategy that “lock-in” customers into the standards to increase trust', ' Nigeria has about 41.5 million Micro', ' Small', ' and Medium interactivity', ' advocacy', ' and switching costs.\\\\n\\\\nEnterprises (MSMEs) in the country (National Bureau of The implementation of social media marketing in market-Statistics [NBS]', ' 2017); in addition to employing about 50%\\\\n\\\\ning mix program enables firms to pro\""
      ]
     },
     "execution_count": 81,
     "metadata": {},
     "output_type": "execute_result"
    }
   ],
   "source": [
    "data[0]"
   ]
  },
  {
   "cell_type": "code",
   "execution_count": 82,
   "id": "67a327be",
   "metadata": {},
   "outputs": [],
   "source": [
    "def chatgptfn(sub_list):\n",
    "    result = ''\n",
    "    response = openai.ChatCompletion.create(\n",
    "        model=\"gpt-3.5-turbo\",\n",
    "        messages=[\n",
    "            {\"role\": \"system\", \"content\": \"You are an assistant\"},\n",
    "            {\"role\": \"user\", \"content\": f\"{sub_list} :give me a summary\"}\n",
    "        ]\n",
    "    )\n",
    "    for choice in response.choices:\n",
    "        result += choice.message.content\n",
    "    return result"
   ]
  },
  {
   "cell_type": "code",
   "execution_count": 83,
   "id": "44c2b46f",
   "metadata": {},
   "outputs": [],
   "source": [
    "data[0] = chatgptfn(data[0])"
   ]
  },
  {
   "cell_type": "code",
   "execution_count": 84,
   "id": "b5bdb297",
   "metadata": {},
   "outputs": [],
   "source": [
    "for i in range(0,5):\n",
    "    data[i] = chatgptfn(data[i])"
   ]
  },
  {
   "cell_type": "code",
   "execution_count": 85,
   "id": "da4f08e1",
   "metadata": {},
   "outputs": [
    {
     "data": {
      "text/plain": [
       "'The article discusses the factors that encourage Micro, Small, and Medium Enterprises in developing countries like Nigeria to adopt social media marketing technology (SMMT). The study uses qualitative interviews with 20 participants under the technology-organization-environment framework and uses thematic analysis to identify key factors that affect adoption. The article reveals several Key Success Factors (KSFs) that support SMMT adoption by MSMEs.'"
      ]
     },
     "execution_count": 85,
     "metadata": {},
     "output_type": "execute_result"
    }
   ],
   "source": [
    "data[0]"
   ]
  },
  {
   "cell_type": "code",
   "execution_count": 61,
   "id": "313e2492",
   "metadata": {},
   "outputs": [],
   "source": [
    "data1=''\n",
    "for i in range(0,5):\n",
    "    data1=data1+ data[i]"
   ]
  },
  {
   "cell_type": "code",
   "execution_count": 62,
   "id": "b363de72",
   "metadata": {},
   "outputs": [
    {
     "data": {
      "text/plain": [
       "\"The article explores how digital transformation affects marketing activities in small and medium-sized enterprises (SMEs) in Poland. It discusses the importance of incorporating modern marketing communication tools for SMEs to survive in the rapidly changing global market. The article analyzes empirical studies and conducts a critical literature review to answer the question on how marketing activities performed by organizations evolve today. Overall, it highlights the crucial role of digital transformation in shaping contemporary consumer behavior and lifestyle and its potential to determine the overall direction of change in the functioning of an organization.The article discusses the importance of digital transformation and its impact on marketing and sustainability. With the increasing importance of ICT and the internet, digital marketing has become an essential tool for organizations to achieve marketing objectives. Digital transformation involves a complete organizational change based on modern tools and a new approach to products and customers. The article highlights the importance of SMEs using ICT tools and techniques to enhance digital transformation and achieve sustainable development. The use of marketing tools during digital transformation is crucial for companies to reach sustainability. The article also emphasizes the importance of customers becoming co-creators of value. The technical progress and development of the information society make digital transformation necessary for enterprises.The paper focuses on the importance of digital transformation in small and medium enterprises (SMEs) to achieve sustainability in a digital era. The three main axes of digital transformation for SMEs are enhancing the customer experience, building data analytics capabilities, and shifting innovation to the business model level. Marketing is one of the pillars of digital transformation in SMEs through the customer experience approach and marketing tools used. The paper aims to investigate how digital economy technologies link with marketing in SMEs, assuming that specific tools and methods linked with digital transformation applied in marketing are used in practice among SMEs. The paper highlights the need for appropriate incentivization by factors such as culture, leadership, IT infrastructure, processes, etc., for a successful digital transformation in SMEs. The paper concludes that digital transformation is not a single point process but a moving target and requires continuous efforts to improve a company's value delivery to customers.This article discusses the importance of digital transformation in creating new market relationships and catering to the expectations of the X, Y, and Z generations. It presents findings from a study conducted among small and medium-sized enterprises (SMEs) in Poland, using a quantitative research design and computer-assisted web interviewing (CAWI) method. The study aimed to identify the use of information and communication technologies (ICT) tools among SMEs and their impact on business activities. Although the results are based on a limited sample size and cannot be generalized for the entire population of SMEs in Poland, the study provides valuable insights into the current state of ICT adoption among SMEs.The article discusses a survey of managers and business owners in Poland about digital marketing trends. The majority of respondents were young and women. The article provides a table of the respondents' profiles and a list of macro and micro trends in digital marketing. Macro trends impact consumer behavior while micro trends focus on business marketing and selling activities. The article also discusses the challenges that small and medium-sized enterprises in Poland face in accessing ICT due to financial and human resource limitations.\""
      ]
     },
     "execution_count": 62,
     "metadata": {},
     "output_type": "execute_result"
    }
   ],
   "source": [
    "data1"
   ]
  },
  {
   "cell_type": "code",
   "execution_count": 72,
   "id": "06967cbb",
   "metadata": {},
   "outputs": [],
   "source": [
    "data2=''\n",
    "for i in range(0,5):\n",
    "    data2=data2+ data[i]"
   ]
  },
  {
   "cell_type": "code",
   "execution_count": 73,
   "id": "8d92b5ad",
   "metadata": {},
   "outputs": [
    {
     "data": {
      "text/plain": [
       "'The article is about the applications of blockchain technology (BCT) in marketing. The study involves the identification of 800 companies that use BCT in their marketing strategies using web-scraping methods. The data was analyzed and categorized into five fields of marketing technology, and future directions for researchers and practitioners in marketing to improve the application of BCT in the future were provided. The article also discusses the potential of BCT in different areas such as insurance, logistics, advertising, and gaming.The article discusses the growing interest in the application of Blockchain technology (BCT) in various fields, including marketing. The author highlights the importance of honesty, consideration, accountability, and transparency in trustworthy interactions in society and business. The article also mentions the Blockchain Marketing Technology Landscape (BMTL), which shows the different areas of marketing that can benefit from BCT. However, the review of academic literature on BCT applications in marketing shows a lack of discussion and exploration in this field. The authors attempt to present the characteristics that make BCT unique from a marketing perspective by systematically reviewing the web for additional applications. The article provides insights into the potential uses of BCT in the marketing industry.The article discusses the use of blockchain technology (BCT) in marketing and presents a review of its applications in different fields. The authors identify five propositions to guide future BCT-related research in marketing. The article also explains the characteristics of BCT, such as immutability and distributed peer-to-peer systems, and highlights some of the challenges related to its conceptual foundation in research. Overall, the article provides insights into the potential of BCT in marketing and highlights the need for further research in this area.This article discusses the various applications of blockchain technology in marketing, including advertising and content promotion. It also explains the role of tokens and initial coin offerings (ICO) in blockchain-based applications. The article highlights the potential of smart contracts to establish new paradigms with limitless applications. The authors used a research method to analyze scholarly and practitioner interest in blockchain technology for marketing. Overall, the article provides an overview of the current understanding of blockchain technology as it relates to marketing.The article reviews the use of blockchain technology (BCT) in marketing and advertising, with a focus on improving brand storytelling and communication, reducing the need for intermediaries, and increasing return on investment. The authors used the PRISMA statement to guide their systematic review of companies using BCT in marketing. They identified and selected companies, assessed their quality, and extracted and synthesized data. The authors found that BCT applications have the potential to revolutionize the content conception, creation, delivery, interaction, and analysis processes. In particular, BCT can address problems related to authenticity, transferability, scalability, quasi-transparency, power consumption, inability to modify blocks, and quality information.'"
      ]
     },
     "execution_count": 73,
     "metadata": {},
     "output_type": "execute_result"
    }
   ],
   "source": [
    "data2"
   ]
  },
  {
   "cell_type": "code",
   "execution_count": 86,
   "id": "40b4cca8",
   "metadata": {},
   "outputs": [],
   "source": [
    "data3=''\n",
    "for i in range(0,5):\n",
    "    data3=data3+ data[i]"
   ]
  },
  {
   "cell_type": "code",
   "execution_count": 87,
   "id": "92e5a348",
   "metadata": {},
   "outputs": [
    {
     "data": {
      "text/plain": [
       "'The article discusses the factors that encourage Micro, Small, and Medium Enterprises in developing countries like Nigeria to adopt social media marketing technology (SMMT). The study uses qualitative interviews with 20 participants under the technology-organization-environment framework and uses thematic analysis to identify key factors that affect adoption. The article reveals several Key Success Factors (KSFs) that support SMMT adoption by MSMEs.The article discusses the potential impact of social media marketing on micro, small and medium enterprises (MSMEs) in Nigeria, where they constitute a significant portion of the working population and contribute 50% of goods and services through web-based facilities. The article explores how social media marketing can increase customer satisfaction, retention and sales compared to traditional marketing. The authors highlight the need for regular and timely scholarly inquiries to understand the underlying adoption enablers and inhibitors of MSMEs in social media marketing. The article provides critical and insightful factors for the adoption of social media marketing, which can assist MSMEs in speeding up their socioeconomic developments.The article discusses the adoption of Social Media Marketing Technology (SMMT) by MSMEs in Nigeria, and how the T-O-E framework can be used to identify the Key Success Factors (KSFs) that influence its adoption. The COVID-19 pandemic has made the adoption of SMMT even more important, due to the need to minimize physical interactions and increase digital engagement. The article reviews existing literature, proposes a framework, presents research methods and findings, and highlights the importance of SMMT in integrating operations, functions, people, and processes. The applications covered by SMMT include Facebook, Twitter, telephone calls, E-mails, telegrams, voice notes, SMS texts, Instagram, YouTube and WhatsApp.The COVID-19 pandemic has created a push for small businesses to adopt social media and digital devices in order to survive. However, many small businesses have yet to fully exploit the potential benefits of these technologies. Research on this topic primarily comes from Western countries and large organizations, making it difficult to understand the critical factors that influence digital interactions in developing economies. The adoption of social media and digital devices could help build customer satisfaction and competitive advantage for MSMEs, but the adoption process can be complicated for small businesses with limited resources. The Technology-Organization-Environment (T-O-E) framework provides insight into the factors that influence adoption decisions. Overall, the adoption of social media and digital devices provides a channel for MSMEs to connect with their customers while being physically separated, and has the potential to improve customer-endorsed services and ultimately promote business growth.The definition of MSMEs is difficult due to its country-specific nature and the various metrics used to measure it. Different theories have emerged, such as behavioral and intentional-based models, to study adoption factors for MSMEs. The constructs of TAM intersect with those of IDT, which is used in this study because of its pragmatic flexibility in understanding and predicting how small enterprises adopt new technologies. The T-O-E framework is effective for exploring and understanding the drivers and essential physiognomies of new devices, and it is estimated that nearly 97% of businesses in Nigeria are SMEs, generating employment and contributing to the advancement of nations.'"
      ]
     },
     "execution_count": 87,
     "metadata": {},
     "output_type": "execute_result"
    }
   ],
   "source": [
    "data3"
   ]
  },
  {
   "cell_type": "code",
   "execution_count": 88,
   "id": "b73c4e4c",
   "metadata": {},
   "outputs": [],
   "source": [
    "papers=[data1,data2,data3 ]"
   ]
  },
  {
   "cell_type": "code",
   "execution_count": 89,
   "id": "c6685f3a",
   "metadata": {},
   "outputs": [
    {
     "data": {
      "text/plain": [
       "[\"The article explores how digital transformation affects marketing activities in small and medium-sized enterprises (SMEs) in Poland. It discusses the importance of incorporating modern marketing communication tools for SMEs to survive in the rapidly changing global market. The article analyzes empirical studies and conducts a critical literature review to answer the question on how marketing activities performed by organizations evolve today. Overall, it highlights the crucial role of digital transformation in shaping contemporary consumer behavior and lifestyle and its potential to determine the overall direction of change in the functioning of an organization.The article discusses the importance of digital transformation and its impact on marketing and sustainability. With the increasing importance of ICT and the internet, digital marketing has become an essential tool for organizations to achieve marketing objectives. Digital transformation involves a complete organizational change based on modern tools and a new approach to products and customers. The article highlights the importance of SMEs using ICT tools and techniques to enhance digital transformation and achieve sustainable development. The use of marketing tools during digital transformation is crucial for companies to reach sustainability. The article also emphasizes the importance of customers becoming co-creators of value. The technical progress and development of the information society make digital transformation necessary for enterprises.The paper focuses on the importance of digital transformation in small and medium enterprises (SMEs) to achieve sustainability in a digital era. The three main axes of digital transformation for SMEs are enhancing the customer experience, building data analytics capabilities, and shifting innovation to the business model level. Marketing is one of the pillars of digital transformation in SMEs through the customer experience approach and marketing tools used. The paper aims to investigate how digital economy technologies link with marketing in SMEs, assuming that specific tools and methods linked with digital transformation applied in marketing are used in practice among SMEs. The paper highlights the need for appropriate incentivization by factors such as culture, leadership, IT infrastructure, processes, etc., for a successful digital transformation in SMEs. The paper concludes that digital transformation is not a single point process but a moving target and requires continuous efforts to improve a company's value delivery to customers.This article discusses the importance of digital transformation in creating new market relationships and catering to the expectations of the X, Y, and Z generations. It presents findings from a study conducted among small and medium-sized enterprises (SMEs) in Poland, using a quantitative research design and computer-assisted web interviewing (CAWI) method. The study aimed to identify the use of information and communication technologies (ICT) tools among SMEs and their impact on business activities. Although the results are based on a limited sample size and cannot be generalized for the entire population of SMEs in Poland, the study provides valuable insights into the current state of ICT adoption among SMEs.The article discusses a survey of managers and business owners in Poland about digital marketing trends. The majority of respondents were young and women. The article provides a table of the respondents' profiles and a list of macro and micro trends in digital marketing. Macro trends impact consumer behavior while micro trends focus on business marketing and selling activities. The article also discusses the challenges that small and medium-sized enterprises in Poland face in accessing ICT due to financial and human resource limitations.\",\n",
       " 'The article is about the applications of blockchain technology (BCT) in marketing. The study involves the identification of 800 companies that use BCT in their marketing strategies using web-scraping methods. The data was analyzed and categorized into five fields of marketing technology, and future directions for researchers and practitioners in marketing to improve the application of BCT in the future were provided. The article also discusses the potential of BCT in different areas such as insurance, logistics, advertising, and gaming.The article discusses the growing interest in the application of Blockchain technology (BCT) in various fields, including marketing. The author highlights the importance of honesty, consideration, accountability, and transparency in trustworthy interactions in society and business. The article also mentions the Blockchain Marketing Technology Landscape (BMTL), which shows the different areas of marketing that can benefit from BCT. However, the review of academic literature on BCT applications in marketing shows a lack of discussion and exploration in this field. The authors attempt to present the characteristics that make BCT unique from a marketing perspective by systematically reviewing the web for additional applications. The article provides insights into the potential uses of BCT in the marketing industry.The article discusses the use of blockchain technology (BCT) in marketing and presents a review of its applications in different fields. The authors identify five propositions to guide future BCT-related research in marketing. The article also explains the characteristics of BCT, such as immutability and distributed peer-to-peer systems, and highlights some of the challenges related to its conceptual foundation in research. Overall, the article provides insights into the potential of BCT in marketing and highlights the need for further research in this area.This article discusses the various applications of blockchain technology in marketing, including advertising and content promotion. It also explains the role of tokens and initial coin offerings (ICO) in blockchain-based applications. The article highlights the potential of smart contracts to establish new paradigms with limitless applications. The authors used a research method to analyze scholarly and practitioner interest in blockchain technology for marketing. Overall, the article provides an overview of the current understanding of blockchain technology as it relates to marketing.The article reviews the use of blockchain technology (BCT) in marketing and advertising, with a focus on improving brand storytelling and communication, reducing the need for intermediaries, and increasing return on investment. The authors used the PRISMA statement to guide their systematic review of companies using BCT in marketing. They identified and selected companies, assessed their quality, and extracted and synthesized data. The authors found that BCT applications have the potential to revolutionize the content conception, creation, delivery, interaction, and analysis processes. In particular, BCT can address problems related to authenticity, transferability, scalability, quasi-transparency, power consumption, inability to modify blocks, and quality information.',\n",
       " 'The article discusses the factors that encourage Micro, Small, and Medium Enterprises in developing countries like Nigeria to adopt social media marketing technology (SMMT). The study uses qualitative interviews with 20 participants under the technology-organization-environment framework and uses thematic analysis to identify key factors that affect adoption. The article reveals several Key Success Factors (KSFs) that support SMMT adoption by MSMEs.The article discusses the potential impact of social media marketing on micro, small and medium enterprises (MSMEs) in Nigeria, where they constitute a significant portion of the working population and contribute 50% of goods and services through web-based facilities. The article explores how social media marketing can increase customer satisfaction, retention and sales compared to traditional marketing. The authors highlight the need for regular and timely scholarly inquiries to understand the underlying adoption enablers and inhibitors of MSMEs in social media marketing. The article provides critical and insightful factors for the adoption of social media marketing, which can assist MSMEs in speeding up their socioeconomic developments.The article discusses the adoption of Social Media Marketing Technology (SMMT) by MSMEs in Nigeria, and how the T-O-E framework can be used to identify the Key Success Factors (KSFs) that influence its adoption. The COVID-19 pandemic has made the adoption of SMMT even more important, due to the need to minimize physical interactions and increase digital engagement. The article reviews existing literature, proposes a framework, presents research methods and findings, and highlights the importance of SMMT in integrating operations, functions, people, and processes. The applications covered by SMMT include Facebook, Twitter, telephone calls, E-mails, telegrams, voice notes, SMS texts, Instagram, YouTube and WhatsApp.The COVID-19 pandemic has created a push for small businesses to adopt social media and digital devices in order to survive. However, many small businesses have yet to fully exploit the potential benefits of these technologies. Research on this topic primarily comes from Western countries and large organizations, making it difficult to understand the critical factors that influence digital interactions in developing economies. The adoption of social media and digital devices could help build customer satisfaction and competitive advantage for MSMEs, but the adoption process can be complicated for small businesses with limited resources. The Technology-Organization-Environment (T-O-E) framework provides insight into the factors that influence adoption decisions. Overall, the adoption of social media and digital devices provides a channel for MSMEs to connect with their customers while being physically separated, and has the potential to improve customer-endorsed services and ultimately promote business growth.The definition of MSMEs is difficult due to its country-specific nature and the various metrics used to measure it. Different theories have emerged, such as behavioral and intentional-based models, to study adoption factors for MSMEs. The constructs of TAM intersect with those of IDT, which is used in this study because of its pragmatic flexibility in understanding and predicting how small enterprises adopt new technologies. The T-O-E framework is effective for exploring and understanding the drivers and essential physiognomies of new devices, and it is estimated that nearly 97% of businesses in Nigeria are SMEs, generating employment and contributing to the advancement of nations.']"
      ]
     },
     "execution_count": 89,
     "metadata": {},
     "output_type": "execute_result"
    }
   ],
   "source": [
    "papers"
   ]
  },
  {
   "cell_type": "code",
   "execution_count": 90,
   "id": "1bf69c8e",
   "metadata": {},
   "outputs": [],
   "source": [
    "import gensim\n",
    "from gensim import corpora\n",
    "from pprint import pprint"
   ]
  },
  {
   "cell_type": "code",
   "execution_count": 91,
   "id": "449f5511",
   "metadata": {},
   "outputs": [],
   "source": [
    "# 創建詞袋\n",
    "texts = [[word for word in document.lower().split()] for document in papers]\n",
    "dictionary = corpora.Dictionary(texts)\n",
    "corpus = [dictionary.doc2bow(text) for text in texts]"
   ]
  },
  {
   "cell_type": "code",
   "execution_count": 92,
   "id": "18fb70af",
   "metadata": {},
   "outputs": [],
   "source": [
    "# 訓練 LDA 模型\n",
    "lda_model = gensim.models.ldamodel.LdaModel(corpus=corpus, id2word=dictionary, \n",
    "                                            num_topics=3, random_state=100, update_every=1, \n",
    "                                            chunksize=100, passes=10, alpha='auto', per_word_topics=True)"
   ]
  },
  {
   "cell_type": "code",
   "execution_count": 93,
   "id": "6afed29c",
   "metadata": {},
   "outputs": [
    {
     "name": "stdout",
     "output_type": "stream",
     "text": [
      "Requirement already satisfied: pyLDAvis in c:\\users\\yanga\\anaconda3\\lib\\site-packages (3.4.0)Note: you may need to restart the kernel to use updated packages.\n",
      "\n",
      "Requirement already satisfied: numexpr in c:\\users\\yanga\\anaconda3\\lib\\site-packages (from pyLDAvis) (2.8.3)\n",
      "Requirement already satisfied: jinja2 in c:\\users\\yanga\\anaconda3\\lib\\site-packages (from pyLDAvis) (2.11.3)\n",
      "Requirement already satisfied: setuptools in c:\\users\\yanga\\anaconda3\\lib\\site-packages (from pyLDAvis) (63.4.1)\n",
      "Requirement already satisfied: funcy in c:\\users\\yanga\\anaconda3\\lib\\site-packages (from pyLDAvis) (2.0)\n",
      "Requirement already satisfied: gensim in c:\\users\\yanga\\anaconda3\\lib\\site-packages (from pyLDAvis) (4.1.2)\n",
      "Requirement already satisfied: scikit-learn>=1.0.0 in c:\\users\\yanga\\anaconda3\\lib\\site-packages (from pyLDAvis) (1.0.2)\n",
      "Requirement already satisfied: scipy in c:\\users\\yanga\\anaconda3\\lib\\site-packages (from pyLDAvis) (1.9.1)\n",
      "Requirement already satisfied: pandas>=1.3.4 in c:\\users\\yanga\\anaconda3\\lib\\site-packages (from pyLDAvis) (1.4.4)\n",
      "Requirement already satisfied: joblib>=1.2.0 in c:\\users\\yanga\\anaconda3\\lib\\site-packages (from pyLDAvis) (1.2.0)\n",
      "Requirement already satisfied: numpy>=1.22.0 in c:\\users\\yanga\\anaconda3\\lib\\site-packages (from pyLDAvis) (1.24.2)\n",
      "Requirement already satisfied: pytz>=2020.1 in c:\\users\\yanga\\anaconda3\\lib\\site-packages (from pandas>=1.3.4->pyLDAvis) (2022.1)\n",
      "Requirement already satisfied: python-dateutil>=2.8.1 in c:\\users\\yanga\\anaconda3\\lib\\site-packages (from pandas>=1.3.4->pyLDAvis) (2.8.2)\n",
      "Requirement already satisfied: threadpoolctl>=2.0.0 in c:\\users\\yanga\\anaconda3\\lib\\site-packages (from scikit-learn>=1.0.0->pyLDAvis) (2.2.0)\n",
      "Requirement already satisfied: smart-open>=1.8.1 in c:\\users\\yanga\\anaconda3\\lib\\site-packages (from gensim->pyLDAvis) (5.2.1)\n",
      "Requirement already satisfied: MarkupSafe>=0.23 in c:\\users\\yanga\\anaconda3\\lib\\site-packages (from jinja2->pyLDAvis) (2.0.1)\n",
      "Requirement already satisfied: packaging in c:\\users\\yanga\\anaconda3\\lib\\site-packages (from numexpr->pyLDAvis) (21.3)\n",
      "Requirement already satisfied: six>=1.5 in c:\\users\\yanga\\anaconda3\\lib\\site-packages (from python-dateutil>=2.8.1->pandas>=1.3.4->pyLDAvis) (1.16.0)\n",
      "Requirement already satisfied: pyparsing!=3.0.5,>=2.0.2 in c:\\users\\yanga\\anaconda3\\lib\\site-packages (from packaging->numexpr->pyLDAvis) (3.0.9)\n"
     ]
    }
   ],
   "source": [
    "pip install pyLDAvis\n"
   ]
  },
  {
   "cell_type": "code",
   "execution_count": 94,
   "id": "593810df",
   "metadata": {},
   "outputs": [
    {
     "name": "stderr",
     "output_type": "stream",
     "text": [
      "C:\\Users\\yanga\\anaconda3\\lib\\site-packages\\pyLDAvis\\_prepare.py:243: FutureWarning: In a future version of pandas all arguments of DataFrame.drop except for the argument 'labels' will be keyword-only.\n",
      "  default_term_info = default_term_info.sort_values(\n"
     ]
    },
    {
     "data": {
      "text/html": [
       "\n",
       "<link rel=\"stylesheet\" type=\"text/css\" href=\"https://cdn.jsdelivr.net/gh/bmabey/pyLDAvis@3.4.0/pyLDAvis/js/ldavis.v1.0.0.css\">\n",
       "\n",
       "\n",
       "<div id=\"ldavis_el978420825622132482004157514\" style=\"background-color:white;\"></div>\n",
       "<script type=\"text/javascript\">\n",
       "\n",
       "var ldavis_el978420825622132482004157514_data = {\"mdsDat\": {\"x\": [0.08253399401166554, -0.03990128261907165, -0.04263271139259384], \"y\": [-0.0, -0.0, -0.0], \"topics\": [1, 2, 3], \"cluster\": [1, 1, 1], \"Freq\": [99.79616817876055, 0.10831336585733609, 0.09551845538210167]}, \"tinfo\": {\"Term\": [\"of\", \"to\", \"in\", \"marketing\", \"digital\", \"and\", \"a\", \"for\", \"article\", \"the\", \"that\", \"transformation\", \"on\", \"discusses\", \"adoption\", \"bct\", \"technology\", \"importance\", \"factors\", \"with\", \"potential\", \"media\", \"social\", \"small\", \"highlights\", \"it\", \"provides\", \"is\", \"marketing.\", \"blockchain\", \"the\", \"and\", \"of\", \"in\", \"to\", \"article\", \"marketing\", \"digital\", \"a\", \"for\", \"transformation\", \"that\", \"discusses\", \"on\", \"adoption\", \"technology\", \"bct\", \"small\", \"social\", \"media\", \"potential\", \"with\", \"factors\", \"importance\", \"marketing.\", \"blockchain\", \"is\", \"provides\", \"it\", \"highlights\", \"question\", \"owners\", \"investigate\", \"today.\", \"z\", \"market\", \"list\", \"evolve\", \"one\", \"entire\", \"enterprises.the\", \"innovation\", \"pillars\", \"catering\", \"relationships\", \"design\", \"main\", \"results\", \"processes,\", \"incorporating\", \"model\", \"analytics\", \"enhance\", \"empirical\", \"accessing\", \"shifting\", \"majority\", \"table\", \"financial\", \"organization.the\", \"aims\", \"and\", \"the\", \"of\", \"in\", \"to\", \"marketing\", \"digital\", \"a\", \"for\", \"on\", \"importance\", \"article\", \"discusses\", \"that\", \"tools\", \"transformation\", \"ict\", \"among\", \"smes\", \"it\", \"smes.\", \"paper\", \"new\", \"with\", \"factors\", \"technology\", \"highlights\", \"potential\", \"adoption\", \"enterprises\", \"also\", \"bct\", \"study\", \"one\", \"today.\", \"sms\", \"physiognomies\", \"(t-o-e)\", \"attempt\", \"telegrams,\", \"consumption,\", \"whatsapp.the\", \"marketing.the\", \"identification\", \"several\", \"point\", \"list\", \"results\", \"field.\", \"it.\", \"accountability,\", \"channel\", \"msmes.the\", \"reviewing\", \"being\", \"research.\", \"nearly\", \"these\", \"scalability,\", \"(msmes)\", \"resources.\", \"physical\", \"integrating\", \"contracts\", \"satisfaction,\", \"constitute\", \"idt,\", \"more\", \"topic\", \"important,\", \"creation,\", \"the\", \"of\", \"and\", \"to\", \"in\", \"article\", \"marketing\", \"digital\", \"for\", \"bct\", \"that\", \"media\", \"adoption\", \"factors\", \"research\", \"a\", \"can\", \"on\", \"technology\", \"into\", \"provides\", \"how\", \"framework\", \"importance\", \"is\", \"highlights\", \"transformation\", \"marketing.\", \"discusses\", \"potential\", \"with\"], \"Freq\": [57.0, 38.0, 48.0, 25.0, 21.0, 72.0, 20.0, 18.0, 25.0, 108.0, 12.0, 12.0, 10.0, 10.0, 10.0, 9.0, 9.0, 8.0, 8.0, 8.0, 8.0, 8.0, 8.0, 8.0, 7.0, 7.0, 7.0, 7.0, 7.0, 7.0, 108.31733660885922, 72.87909548919671, 57.798926134388026, 48.07607839636949, 38.33518986419071, 25.08765316974776, 25.06421432035373, 21.52320922430516, 20.653135193870742, 18.881011527314605, 12.68953861865061, 12.684818511499254, 10.91438262364207, 10.906326671532781, 10.031566573181273, 9.145123216819155, 9.14464666753945, 8.265256524177241, 8.264625380041918, 8.26039529603383, 8.26020169788895, 8.260135746872562, 8.257503379422767, 8.251972003854771, 7.379746410154545, 7.379832217390921, 7.377260836902516, 7.375729780511323, 7.37329313865855, 7.372997422810876, 0.002822573524797928, 0.00282249559532088, 0.0028204617321791565, 0.0028190499579245844, 0.0028195227300853425, 0.0028190105121399054, 0.002818445956372846, 0.0028188255979980704, 0.0028169820367151136, 0.002818183305172425, 0.0028181529030554533, 0.0028173901562726913, 0.0028172248688139645, 0.0028168962180811297, 0.002816568914277528, 0.0028165492875944194, 0.002816337434867926, 0.0028157703776608626, 0.0028165569843328934, 0.0028165696839513752, 0.0028163118432125004, 0.002815727275925409, 0.0028155933526759634, 0.0028158498464856056, 0.0028151736880106747, 0.002815578344035939, 0.0028158484995563725, 0.0028155179246389193, 0.0028154734759742324, 0.0028154203684787626, 0.002815663200577614, 0.003931682967389149, 0.004047734005261439, 0.0037761630546227862, 0.0036572472906905174, 0.003476842667927318, 0.003322165163186921, 0.003272189855439073, 0.0031422731432060825, 0.0031008897046166306, 0.003039890743189563, 0.002992303925808622, 0.0030886168702830997, 0.002987975664927834, 0.0029886558641904633, 0.0029424750485102396, 0.002969513690768992, 0.002896482418085702, 0.002895581322428872, 0.0029163067149544216, 0.0029298325783115005, 0.0028529438927235628, 0.002887438173123504, 0.0028977754701493144, 0.0029229819038143587, 0.002922631894632259, 0.002925553768975407, 0.002918604383807338, 0.0029191142927312325, 0.0029210700339774463, 0.0029054114043892544, 0.0028983798565379764, 0.0029104033165449532, 0.0028990115663482204, 0.0024887649575868445, 0.002488195822925125, 0.0024898845611938873, 0.002489478836394791, 0.0024897781666104357, 0.0024889412637626126, 0.002489104334248573, 0.0024888599830521284, 0.002489160840462751, 0.0024896982434065985, 0.0024888874725617284, 0.0024891272421732396, 0.0024874271347863097, 0.002486598207290037, 0.002487001386764171, 0.0024882967874819894, 0.002488944487840899, 0.0024890537671259753, 0.0024884871777892193, 0.0024886743440181627, 0.002488003735734587, 0.0024877904375026905, 0.0024884871777892193, 0.0024876977876740385, 0.002488539102418464, 0.0024879782824849574, 0.0024877359675484828, 0.002487868324446557, 0.002487250149857218, 0.002488276424882286, 0.002489140647551378, 0.0024883493908645577, 0.002488380104452444, 0.0024881941260418167, 0.0024880056023062263, 0.00248803767340076, 0.002488095197744923, 0.0024879630105351792, 0.0032300947558821748, 0.0030110410351794027, 0.0028990518274588438, 0.002809294845471473, 0.0028073223883135056, 0.0026409653787606642, 0.0026299761927655566, 0.002607371670834452, 0.0025956216023637485, 0.0025685990750502594, 0.0025731855809451925, 0.0025589750316769556, 0.0025619177667108054, 0.0025568372980847263, 0.002545482433736606, 0.0025787954771635687, 0.0025446236410941016, 0.002561096305501091, 0.0025511559630790564, 0.002532932284785877, 0.00254225190729361, 0.0025338642130989845, 0.002522464211654854, 0.002541315906460562, 0.002538311235185947, 0.002537407644824094, 0.0025506267051750905, 0.0025356732603943294, 0.002539698946355756, 0.0025373682771313334, 0.002534485102701617], \"Total\": [57.0, 38.0, 48.0, 25.0, 21.0, 72.0, 20.0, 18.0, 25.0, 108.0, 12.0, 12.0, 10.0, 10.0, 10.0, 9.0, 9.0, 8.0, 8.0, 8.0, 8.0, 8.0, 8.0, 8.0, 7.0, 7.0, 7.0, 7.0, 7.0, 7.0, 108.32461443762035, 72.88592622399156, 57.80571333847783, 48.08254296604849, 38.34147600170411, 25.093382751996803, 25.070166461709682, 21.529088785831433, 20.65885626249111, 18.886708038621585, 12.695058759046553, 12.690380352944388, 10.919910298253352, 10.91192765858147, 10.037049560981961, 9.150599926551209, 9.150125669931045, 8.270667102520214, 8.270041320313334, 8.265847204325064, 8.265658180458814, 8.265593213879079, 8.262982848615485, 8.25750562368704, 7.385138972463386, 7.385224921414811, 7.382676522440433, 7.381159402860441, 7.378747957186801, 7.378453434839507, 1.184019573853792, 1.1841620559362294, 1.1842237988235267, 1.1839449846593433, 1.1843570406616168, 1.1842848161368742, 1.184197988655302, 1.1844920690156933, 1.1840947122625234, 1.1846067108804992, 1.1846935545183976, 1.1845466709838484, 1.1845779448000773, 1.1847927445090582, 1.1847508656868666, 1.1847430410935922, 1.1846675966636522, 1.1844318634437745, 1.1847645758012582, 1.1847783798445826, 1.1846704932643013, 1.184594214986896, 1.1846582822741383, 1.1848155684209094, 1.184588438988635, 1.1847940913637613, 1.1849146344929586, 1.1847870505830826, 1.184785904501319, 1.1847698985937791, 1.184949072688347, 72.88592622399156, 108.32461443762035, 57.80571333847783, 48.08254296604849, 38.34147600170411, 25.070166461709682, 21.529088785831433, 20.65885626249111, 18.886708038621585, 10.91192765858147, 8.25750562368704, 25.093382751996803, 10.919910298253352, 12.690380352944388, 6.49128943392156, 12.695058759046553, 3.8352825312111554, 3.8361572305447265, 5.607163281319484, 7.378747957186801, 2.067372582845579, 3.8369720473695472, 4.721833384909024, 8.265593213879079, 8.262982848615485, 9.150599926551209, 7.378453434839507, 8.265658180458814, 10.037049560981961, 6.4937823661160285, 5.6099618026035385, 9.150125669931045, 6.495158543605364, 1.1840947122625234, 1.1839449846593433, 1.1849582604851823, 1.1850045893055037, 1.1853354166174555, 1.1850115066482094, 1.1851586520347943, 1.185057353214949, 1.185249264219967, 1.1855358914550769, 1.1851939809067304, 1.185311614736872, 1.1845482419309588, 1.184197988655302, 1.1844318634437745, 1.1850546137966849, 1.1853884721560688, 1.1854407008914614, 1.1852187052318774, 1.1854509364603878, 1.1851626574592884, 1.1850664463709601, 1.1854376996522324, 1.1850652302750622, 1.1854722901035735, 1.1852129746667173, 1.1850979760555602, 1.1852583858964407, 1.1849918761167584, 1.185481806271173, 1.1859064303598728, 1.185537293139117, 1.18560700954413, 1.1854602177606821, 1.1854324944042798, 1.1855018600928822, 1.1856274158497981, 1.1855177599245974, 108.32461443762035, 57.80571333847783, 72.88592622399156, 38.34147600170411, 48.08254296604849, 25.093382751996803, 25.070166461709682, 21.529088785831433, 18.886708038621585, 9.150125669931045, 12.690380352944388, 8.265847204325064, 10.037049560981961, 8.262982848615485, 5.606361782124349, 20.65885626249111, 5.60985591941543, 10.91192765858147, 9.150599926551209, 4.723419401022683, 7.381159402860441, 5.607402893025093, 3.8389914059532804, 8.25750562368704, 7.382676522440433, 7.378453434839507, 12.695058759046553, 7.385138972463386, 10.919910298253352, 8.265658180458814, 8.265593213879079], \"Category\": [\"Default\", \"Default\", \"Default\", \"Default\", \"Default\", \"Default\", \"Default\", \"Default\", \"Default\", \"Default\", \"Default\", \"Default\", \"Default\", \"Default\", \"Default\", \"Default\", \"Default\", \"Default\", \"Default\", \"Default\", \"Default\", \"Default\", \"Default\", \"Default\", \"Default\", \"Default\", \"Default\", \"Default\", \"Default\", \"Default\", \"Topic1\", \"Topic1\", \"Topic1\", \"Topic1\", \"Topic1\", \"Topic1\", \"Topic1\", \"Topic1\", \"Topic1\", \"Topic1\", \"Topic1\", \"Topic1\", \"Topic1\", \"Topic1\", \"Topic1\", \"Topic1\", \"Topic1\", \"Topic1\", \"Topic1\", \"Topic1\", \"Topic1\", \"Topic1\", \"Topic1\", \"Topic1\", \"Topic1\", \"Topic1\", \"Topic1\", \"Topic1\", \"Topic1\", \"Topic1\", \"Topic2\", \"Topic2\", \"Topic2\", \"Topic2\", \"Topic2\", \"Topic2\", \"Topic2\", \"Topic2\", \"Topic2\", \"Topic2\", \"Topic2\", \"Topic2\", \"Topic2\", \"Topic2\", \"Topic2\", \"Topic2\", \"Topic2\", \"Topic2\", \"Topic2\", \"Topic2\", \"Topic2\", \"Topic2\", \"Topic2\", \"Topic2\", \"Topic2\", \"Topic2\", \"Topic2\", \"Topic2\", \"Topic2\", \"Topic2\", \"Topic2\", \"Topic2\", \"Topic2\", \"Topic2\", \"Topic2\", \"Topic2\", \"Topic2\", \"Topic2\", \"Topic2\", \"Topic2\", \"Topic2\", \"Topic2\", \"Topic2\", \"Topic2\", \"Topic2\", \"Topic2\", \"Topic2\", \"Topic2\", \"Topic2\", \"Topic2\", \"Topic2\", \"Topic2\", \"Topic2\", \"Topic2\", \"Topic2\", \"Topic2\", \"Topic2\", \"Topic2\", \"Topic2\", \"Topic2\", \"Topic2\", \"Topic2\", \"Topic2\", \"Topic2\", \"Topic3\", \"Topic3\", \"Topic3\", \"Topic3\", \"Topic3\", \"Topic3\", \"Topic3\", \"Topic3\", \"Topic3\", \"Topic3\", \"Topic3\", \"Topic3\", \"Topic3\", \"Topic3\", \"Topic3\", \"Topic3\", \"Topic3\", \"Topic3\", \"Topic3\", \"Topic3\", \"Topic3\", \"Topic3\", \"Topic3\", \"Topic3\", \"Topic3\", \"Topic3\", \"Topic3\", \"Topic3\", \"Topic3\", \"Topic3\", \"Topic3\", \"Topic3\", \"Topic3\", \"Topic3\", \"Topic3\", \"Topic3\", \"Topic3\", \"Topic3\", \"Topic3\", \"Topic3\", \"Topic3\", \"Topic3\", \"Topic3\", \"Topic3\", \"Topic3\", \"Topic3\", \"Topic3\", \"Topic3\", \"Topic3\", \"Topic3\", \"Topic3\", \"Topic3\", \"Topic3\", \"Topic3\", \"Topic3\", \"Topic3\", \"Topic3\", \"Topic3\", \"Topic3\", \"Topic3\", \"Topic3\", \"Topic3\", \"Topic3\", \"Topic3\", \"Topic3\", \"Topic3\", \"Topic3\", \"Topic3\", \"Topic3\"], \"logprob\": [30.0, 29.0, 28.0, 27.0, 26.0, 25.0, 24.0, 23.0, 22.0, 21.0, 20.0, 19.0, 18.0, 17.0, 16.0, 15.0, 14.0, 13.0, 12.0, 11.0, 10.0, 9.0, 8.0, 7.0, 6.0, 5.0, 4.0, 3.0, 2.0, 1.0, -2.6433, -3.0396, -3.2714, -3.4556, -3.682, -4.106, -4.1069, -4.2592, -4.3005, -4.3902, -4.7876, -4.788, -4.9383, -4.939, -5.0226, -5.1151, -5.1152, -5.2163, -5.2164, -5.2169, -5.2169, -5.2169, -5.2172, -5.2179, -5.3296, -5.3296, -5.33, -5.3302, -5.3305, -5.3305, -6.3726, -6.3726, -6.3734, -6.3739, -6.3737, -6.3739, -6.3741, -6.3739, -6.3746, -6.3742, -6.3742, -6.3745, -6.3745, -6.3746, -6.3747, -6.3748, -6.3748, -6.375, -6.3747, -6.3747, -6.3748, -6.375, -6.3751, -6.375, -6.3752, -6.3751, -6.375, -6.3751, -6.3751, -6.3752, -6.3751, -6.0412, -6.0121, -6.0816, -6.1136, -6.1641, -6.2096, -6.2248, -6.2653, -6.2786, -6.2984, -6.3142, -6.2825, -6.3157, -6.3154, -6.331, -6.3219, -6.3468, -6.3471, -6.3399, -6.3353, -6.3619, -6.3499, -6.3463, -6.3377, -6.3378, -6.3368, -6.3392, -6.339, -6.3383, -6.3437, -6.3461, -6.342, -6.3459, -6.3728, -6.373, -6.3723, -6.3725, -6.3724, -6.3727, -6.3726, -6.3727, -6.3726, -6.3724, -6.3727, -6.3726, -6.3733, -6.3736, -6.3735, -6.373, -6.3727, -6.3727, -6.3729, -6.3728, -6.3731, -6.3732, -6.3729, -6.3732, -6.3729, -6.3731, -6.3732, -6.3731, -6.3734, -6.373, -6.3726, -6.3729, -6.3729, -6.373, -6.3731, -6.3731, -6.373, -6.3731, -6.112, -6.1823, -6.2202, -6.2516, -6.2523, -6.3134, -6.3176, -6.3262, -6.3307, -6.3412, -6.3394, -6.3449, -6.3438, -6.3458, -6.3502, -6.3372, -6.3506, -6.3441, -6.348, -6.3552, -6.3515, -6.3548, -6.3593, -6.3519, -6.3531, -6.3534, -6.3482, -6.3541, -6.3525, -6.3534, -6.3546], \"loglift\": [30.0, 29.0, 28.0, 27.0, 26.0, 25.0, 24.0, 23.0, 22.0, 21.0, 20.0, 19.0, 18.0, 17.0, 16.0, 15.0, 14.0, 13.0, 12.0, 11.0, 10.0, 9.0, 8.0, 7.0, 6.0, 5.0, 4.0, 3.0, 2.0, 1.0, 0.002, 0.0019, 0.0019, 0.0019, 0.0019, 0.0018, 0.0018, 0.0018, 0.0018, 0.0017, 0.0016, 0.0016, 0.0015, 0.0015, 0.0015, 0.0014, 0.0014, 0.0014, 0.0014, 0.0014, 0.0014, 0.0014, 0.0014, 0.0014, 0.0013, 0.0013, 0.0013, 0.0013, 0.0013, 0.0013, 0.7889, 0.7887, 0.788, 0.7877, 0.7875, 0.7874, 0.7873, 0.7871, 0.7868, 0.7868, 0.7867, 0.7866, 0.7865, 0.7862, 0.7861, 0.7861, 0.7861, 0.7861, 0.7861, 0.7861, 0.7861, 0.786, 0.7859, 0.7858, 0.7858, 0.7857, 0.7857, 0.7857, 0.7857, 0.7857, 0.7856, -2.9997, -3.3668, -2.8082, -2.6561, -2.4803, -2.1009, -1.9638, -1.9631, -1.8866, -1.3579, -1.0949, -2.1747, -1.3759, -1.5259, -0.8711, -1.5327, -0.3606, -0.3611, -0.7336, -1.0035, 0.2422, -0.3642, -0.5681, -1.1194, -1.1192, -1.2202, -1.0073, -1.1207, -1.3142, -0.8841, -0.7403, -1.2253, -0.8865, 0.7887, 0.7886, 0.7884, 0.7882, 0.788, 0.788, 0.7879, 0.7879, 0.7878, 0.7878, 0.7878, 0.7878, 0.7877, 0.7877, 0.7877, 0.7877, 0.7876, 0.7876, 0.7876, 0.7875, 0.7875, 0.7874, 0.7874, 0.7874, 0.7874, 0.7874, 0.7874, 0.7873, 0.7873, 0.7873, 0.7873, 0.7873, 0.7872, 0.7873, 0.7872, 0.7872, 0.7871, 0.7871, -3.4668, -2.909, -3.1787, -2.5677, -2.7948, -2.2056, -2.2089, -2.0652, -1.9388, -1.2246, -1.5498, -1.1267, -1.3197, -1.1272, -0.7437, -2.035, -0.7447, -1.4036, -1.2314, -0.5773, -1.02, -0.7485, -0.3741, -1.1326, -1.0218, -1.0216, -1.559, -1.0232, -1.4127, -1.1351, -1.1363]}, \"token.table\": {\"Topic\": [1, 1, 1, 1, 1, 1, 1, 1, 1, 1, 1, 1, 1, 1, 1, 1, 1, 1, 1, 1, 1, 1, 1, 1, 1, 1, 1, 1, 1, 1, 1, 1, 1, 1, 1, 1, 1, 1, 1, 1, 1, 1, 1, 1, 1, 1, 1, 1, 1, 1, 1, 1, 1, 1, 1, 1, 1, 1, 1, 1, 1, 1, 1, 1, 1, 1, 1, 1, 1, 1, 1, 1, 1, 1, 1, 1, 1, 1, 1, 1, 1, 1, 1, 1, 1, 1, 1, 1, 1, 1, 1, 1, 1, 1, 1, 1, 1, 1, 1, 1, 1, 1, 1, 1, 1, 1, 1, 1, 1, 1], \"Freq\": [0.8438120899745065, 0.8436430616859996, 1.016513195753643, 0.844175046021696, 0.8435681339842571, 0.9963087199324006, 0.84391812530074, 1.0695259987715866, 1.0427101288108591, 0.8441709298834134, 1.0015651001766497, 0.9962785905384012, 0.8438736623144595, 0.9835930482982999, 0.8438345403013554, 0.9478384307162019, 1.069546185532912, 0.8440294765768247, 0.8437261372822824, 0.8434498041509585, 0.8438410151939855, 0.84323684769678, 0.8435133017860509, 0.8440648860675621, 1.0218732533853676, 1.007334282018732, 0.8440132174603119, 0.8441252764302145, 0.9239607460988313, 0.844100144029669, 0.8441620250966804, 0.8442437278883553, 0.9681733759547196, 0.8438429658496448, 0.8440343493290494, 1.005998502287786, 1.0419403371930025, 0.9487082979947357, 1.070014071480979, 1.0429479360251532, 0.843743738248613, 0.8435542458683144, 0.9688155678697483, 0.8434352872004485, 0.9982833069767799, 0.8440397098832766, 0.84420481226749, 0.8435388841144772, 1.0585551642772677, 0.8444349801054963, 0.9481656115804008, 0.948670430351547, 0.8436053019658011, 0.8444533849745302, 0.8441186395375997, 0.8439426528206514, 0.8443914727050124, 0.9972011968162696, 0.9478494617502209, 0.8435004011330623, 0.9678378758095164, 0.844116575609602, 0.8435739738200226, 0.843560850342637, 0.8438354062315142, 1.0589107222588574, 1.003361028699439, 1.008071199166104, 0.8445270379505688, 0.8440457519953155, 0.8444790094286326, 1.0424886995833649, 0.8438876418942378, 0.8438785883403799, 0.8441825245773685, 0.8442036926836154, 0.9678600088875114, 0.8440495440401722, 0.9483604970361798, 0.8445806320119877, 0.844059311507862, 1.0702127749105936, 0.8435702696930985, 0.84369789060271, 0.8442866414387631, 0.8437660381097107, 0.8434994038459613, 0.8437302167411732, 0.8436600026247026, 0.8440285170978077, 0.9672738487518453, 1.0700597965444076, 0.9674114944714775, 0.8439115818227632, 0.9673470409815192, 0.9237649796719959, 0.8440335328680869, 0.9835420707101148, 0.8437688897457769, 1.024397980079752, 0.997003317858036, 0.8435456554725805, 0.9910938222177745, 0.8446338410629192, 0.9243155864604917, 0.8435246149016178, 1.024020467076306, 0.8437043837003495, 0.9678676161520856, 0.8443399799788166], \"Term\": [\"(msmes)\", \"(t-o-e)\", \"a\", \"accessing\", \"accountability,\", \"adoption\", \"aims\", \"also\", \"among\", \"analytics\", \"and\", \"article\", \"attempt\", \"bct\", \"being\", \"blockchain\", \"can\", \"catering\", \"channel\", \"constitute\", \"consumption,\", \"contracts\", \"creation,\", \"design\", \"digital\", \"discusses\", \"empirical\", \"enhance\", \"enterprises\", \"enterprises.the\", \"entire\", \"evolve\", \"factors\", \"field.\", \"financial\", \"for\", \"framework\", \"highlights\", \"how\", \"ict\", \"identification\", \"idt,\", \"importance\", \"important,\", \"in\", \"incorporating\", \"innovation\", \"integrating\", \"into\", \"investigate\", \"is\", \"it\", \"it.\", \"list\", \"main\", \"majority\", \"market\", \"marketing\", \"marketing.\", \"marketing.the\", \"media\", \"model\", \"more\", \"msmes.the\", \"nearly\", \"new\", \"of\", \"on\", \"one\", \"organization.the\", \"owners\", \"paper\", \"physical\", \"physiognomies\", \"pillars\", \"point\", \"potential\", \"processes,\", \"provides\", \"question\", \"relationships\", \"research\", \"research.\", \"resources.\", \"results\", \"reviewing\", \"satisfaction,\", \"scalability,\", \"several\", \"shifting\", \"small\", \"smes\", \"smes.\", \"sms\", \"social\", \"study\", \"table\", \"technology\", \"telegrams,\", \"that\", \"the\", \"these\", \"to\", \"today.\", \"tools\", \"topic\", \"transformation\", \"whatsapp.the\", \"with\", \"z\"]}, \"R\": 30, \"lambda.step\": 0.01, \"plot.opts\": {\"xlab\": \"PC1\", \"ylab\": \"PC2\"}, \"topic.order\": [3, 1, 2]};\n",
       "\n",
       "function LDAvis_load_lib(url, callback){\n",
       "  var s = document.createElement('script');\n",
       "  s.src = url;\n",
       "  s.async = true;\n",
       "  s.onreadystatechange = s.onload = callback;\n",
       "  s.onerror = function(){console.warn(\"failed to load library \" + url);};\n",
       "  document.getElementsByTagName(\"head\")[0].appendChild(s);\n",
       "}\n",
       "\n",
       "if(typeof(LDAvis) !== \"undefined\"){\n",
       "   // already loaded: just create the visualization\n",
       "   !function(LDAvis){\n",
       "       new LDAvis(\"#\" + \"ldavis_el978420825622132482004157514\", ldavis_el978420825622132482004157514_data);\n",
       "   }(LDAvis);\n",
       "}else if(typeof define === \"function\" && define.amd){\n",
       "   // require.js is available: use it to load d3/LDAvis\n",
       "   require.config({paths: {d3: \"https://d3js.org/d3.v5\"}});\n",
       "   require([\"d3\"], function(d3){\n",
       "      window.d3 = d3;\n",
       "      LDAvis_load_lib(\"https://cdn.jsdelivr.net/gh/bmabey/pyLDAvis@3.4.0/pyLDAvis/js/ldavis.v3.0.0.js\", function(){\n",
       "        new LDAvis(\"#\" + \"ldavis_el978420825622132482004157514\", ldavis_el978420825622132482004157514_data);\n",
       "      });\n",
       "    });\n",
       "}else{\n",
       "    // require.js not available: dynamically load d3 & LDAvis\n",
       "    LDAvis_load_lib(\"https://d3js.org/d3.v5.js\", function(){\n",
       "         LDAvis_load_lib(\"https://cdn.jsdelivr.net/gh/bmabey/pyLDAvis@3.4.0/pyLDAvis/js/ldavis.v3.0.0.js\", function(){\n",
       "                 new LDAvis(\"#\" + \"ldavis_el978420825622132482004157514\", ldavis_el978420825622132482004157514_data);\n",
       "            })\n",
       "         });\n",
       "}\n",
       "</script>"
      ],
      "text/plain": [
       "<IPython.core.display.HTML object>"
      ]
     },
     "execution_count": 94,
     "metadata": {},
     "output_type": "execute_result"
    }
   ],
   "source": [
    "# 輸出主題模型分析結果\n",
    "import pyLDAvis.gensim\n",
    "pyLDAvis.enable_notebook()\n",
    "vis = pyLDAvis.gensim.prepare(lda_model, corpus, dictionary)\n",
    "pyLDAvis.display(vis)"
   ]
  },
  {
   "cell_type": "code",
   "execution_count": null,
   "id": "0f78a153",
   "metadata": {},
   "outputs": [],
   "source": []
  }
 ],
 "metadata": {
  "kernelspec": {
   "display_name": "Python 3 (ipykernel)",
   "language": "python",
   "name": "python3"
  },
  "language_info": {
   "codemirror_mode": {
    "name": "ipython",
    "version": 3
   },
   "file_extension": ".py",
   "mimetype": "text/x-python",
   "name": "python",
   "nbconvert_exporter": "python",
   "pygments_lexer": "ipython3",
   "version": "3.9.13"
  }
 },
 "nbformat": 4,
 "nbformat_minor": 5
}
