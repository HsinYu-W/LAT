{
 "cells": [
  {
   "cell_type": "code",
   "execution_count": 11,
   "id": "19d54095",
   "metadata": {},
   "outputs": [],
   "source": [
    "import openai\n",
    "import pandas as pd"
   ]
  },
  {
   "cell_type": "code",
   "execution_count": 12,
   "id": "23023f9c",
   "metadata": {},
   "outputs": [],
   "source": [
    "with open(\"001.txt\", \"r\", encoding='utf-8') as fh:\n",
    "    tmp = fh.read()\n",
    "    itemlist = tmp.split(\",\")"
   ]
  },
  {
   "cell_type": "code",
   "execution_count": 13,
   "id": "7398f9e3",
   "metadata": {},
   "outputs": [],
   "source": [
    "itemlist = str(itemlist)"
   ]
  },
  {
   "cell_type": "code",
   "execution_count": 24,
   "id": "154046e7",
   "metadata": {},
   "outputs": [],
   "source": [
    "keyfile = open(\"mykey.txt\", \"r\")\n",
    "key = keyfile.readline()\n",
    "openai.api_key = key"
   ]
  },
  {
   "cell_type": "code",
   "execution_count": 25,
   "id": "04194091",
   "metadata": {},
   "outputs": [],
   "source": [
    "data = [itemlist[0:3200], itemlist[3201:6400], \n",
    "        itemlist[6401:9600], itemlist[9601:12800], itemlist[12801:16000]]"
   ]
  },
  {
   "cell_type": "code",
   "execution_count": 26,
   "id": "c7e72756",
   "metadata": {},
   "outputs": [
    {
     "data": {
      "text/plain": [
       "\"['sustainability\\\\n\\\\nArticle\\\\n\\\\nDigital Transformation and Marketing Activities in Small and Medium-Sized Enterprises\\\\n\\\\nMarta Joanna Ziółkowska\\\\n\\\\nInstitute of Management', ' SGH Warsaw School of Economics', ' 02-554 Warsaw', ' Poland; mziolkow@sgh.waw.pl Abstract: Digital transformation which impacts business operations is one of the most fundamental social and economic occurrences of our times. The paper seeks to find out how digital transformation impacts marketing activities in small and medium-sized enterprises (SMEs) and to examine overall changes triggered by digital technology in the marketing concept', ' its instruments', ' and activities in SMEs in Poland. The main research question focuses on the direction in which marketing activities performed by organisations evolve nowadays. Analyses and considerations are based on logical inference', ' examination of results of empirical studies', ' critical literature review', ' and author’s market observations. Conducted analyses have demonstrated that', ' in enterprises covered by the study', ' digital technologies are deployed in marketing rather widely', ' although in many instances these technologies belong to the category of traditional tools. IT technologies and digital tools also impact marketing', ' helping to build relationships with clients and creating the value of each organisation.\\\\n\\\\nKeywords: marketing; Poland; digital transformation; small and medium sized enterprises\\\\n\\\\n\\\\n\\\\n\\\\n\\\\nCitation: Ziółkowska', ' M.J. Digital\\\\n\\\\n1. Introduction\\\\n\\\\nTransformation and Marketing\\\\n\\\\nActivities in Small and Medium-Sized\\\\n\\\\nDigital transformation', ' most frequently identified with multi-factor effects of digital Enterprises. Sustainability 2021', ' 13', '\\\\n\\\\ntechnologies on an organisation', ' is one of the crucial occurrences that describe our social 2512. https://doi.org/10.3390/\\\\n\\\\nand economic reality here and now across the globe. It manifests itself in the incorporation\\\\n\\\\nsu13052512\\\\n\\\\nof digital technologies into all operational aspects of activities of an organisation.\\\\n\\\\nIn trying to keep pace with the technological progress and unrolling social changes Academic Editors: Danuta Zawadzka\\\\n\\\\ntriggered by the X', ' Y', ' and Z generations', ' businesses must stand up to the challenge and use and Andrea Pérez\\\\n\\\\ndiverse modern marketing communication instruments [1]', ' including those linked with sustainable growth [2', '3]. That is a must if they want to survive in the global market shaken Received: 10 January 2021\\\\n\\\\nby rapid and turbulent changes', ' where a contemporary customer becomes a co-creator of Accepted: 22 February 2021\\\\n\\\\nvalue. Technology', ' used previously to drive costs down and improve business processes', ' Published: 26 February 2021\\\\n\\\\nhas revealed its potential to determine the overall direction of change in the functioning of an organisation.\\\\n\\\\nPublisher’s Note: MDPI stays neutral\\\\n\\\\nToday we can observe a phenomenon referred to as “digital revolution” to denote with regard to jurisdictional claims in\\\\n\\\\nfundamental changes in consumer behaviour and lifestyle', ' as well as in the organisation published maps and institutional affil-of economic relations. All \""
      ]
     },
     "execution_count": 26,
     "metadata": {},
     "output_type": "execute_result"
    }
   ],
   "source": [
    "data[0]"
   ]
  },
  {
   "cell_type": "code",
   "execution_count": 27,
   "id": "67a327be",
   "metadata": {},
   "outputs": [],
   "source": [
    "def chatgptfn(sub_list):\n",
    "    result = ''\n",
    "    response = openai.ChatCompletion.create(\n",
    "        model=\"gpt-3.5-turbo\",\n",
    "        messages=[\n",
    "            {\"role\": \"system\", \"content\": \"You are an assistant\"},\n",
    "            {\"role\": \"user\", \"content\": f\"{sub_list} :give me a summary\"}\n",
    "        ]\n",
    "    )\n",
    "    for choice in response.choices:\n",
    "        result += choice.message.content\n",
    "    return result"
   ]
  },
  {
   "cell_type": "code",
   "execution_count": 28,
   "id": "44c2b46f",
   "metadata": {},
   "outputs": [],
   "source": [
    "data[0] = chatgptfn(data[0])"
   ]
  },
  {
   "cell_type": "code",
   "execution_count": 29,
   "id": "da4f08e1",
   "metadata": {},
   "outputs": [
    {
     "data": {
      "text/plain": [
       "'This article explores how digital transformation is impacting marketing activities in small and medium-sized enterprises (SMEs) in Poland. The author examines changes triggered by digital technology in the marketing concept, its instruments, and activities in SMEs. The author uses logical inference, examination of empirical studies, critical literature review, and author’s market observations to analyze the topic. The article demonstrates that digital technologies are used widely in marketing in enterprises covered by the study, although in many cases, these technologies belong to the category of traditional tools. The article emphasizes the importance of utilizing diverse modern marketing communication instruments, including those linked with sustainable growth, to survive in the global market.'"
      ]
     },
     "execution_count": 29,
     "metadata": {},
     "output_type": "execute_result"
    }
   ],
   "source": [
    "data[0]"
   ]
  },
  {
   "cell_type": "code",
   "execution_count": 30,
   "id": "e4c5390c",
   "metadata": {},
   "outputs": [],
   "source": [
    "data[1] = chatgptfn(data[1])"
   ]
  },
  {
   "cell_type": "code",
   "execution_count": 31,
   "id": "d1862c0b",
   "metadata": {},
   "outputs": [],
   "source": [
    "data[2] = chatgptfn(data[2])\n",
    "data[3] = chatgptfn(data[3])"
   ]
  },
  {
   "cell_type": "code",
   "execution_count": 32,
   "id": "cd353f56",
   "metadata": {},
   "outputs": [],
   "source": [
    "for i in range(0,5):\n",
    "    data[i] = chatgptfn(data[i])"
   ]
  },
  {
   "cell_type": "code",
   "execution_count": 33,
   "id": "1bf69c8e",
   "metadata": {},
   "outputs": [],
   "source": [
    "import gensim\n",
    "from gensim import corpora\n",
    "from pprint import pprint"
   ]
  },
  {
   "cell_type": "code",
   "execution_count": 34,
   "id": "449f5511",
   "metadata": {},
   "outputs": [],
   "source": [
    "# 創建詞袋\n",
    "texts = [[word for word in document.lower().split()] for document in data]\n",
    "dictionary = corpora.Dictionary(texts)\n",
    "corpus = [dictionary.doc2bow(text) for text in texts]"
   ]
  },
  {
   "cell_type": "code",
   "execution_count": 35,
   "id": "18fb70af",
   "metadata": {},
   "outputs": [],
   "source": [
    "# 訓練 LDA 模型\n",
    "lda_model = gensim.models.ldamodel.LdaModel(corpus=corpus, id2word=dictionary, \n",
    "                                            num_topics=3, random_state=100, update_every=1, \n",
    "                                            chunksize=100, passes=10, alpha='auto', per_word_topics=True)"
   ]
  },
  {
   "cell_type": "code",
   "execution_count": 37,
   "id": "6afed29c",
   "metadata": {},
   "outputs": [
    {
     "name": "stdout",
     "output_type": "stream",
     "text": [
      "Collecting pyLDAvis\n",
      "  Downloading pyLDAvis-3.4.0-py3-none-any.whl (2.6 MB)\n",
      "     ---------------------------------------- 2.6/2.6 MB 542.0 kB/s eta 0:00:00\n",
      "Collecting numpy>=1.22.0\n",
      "  Downloading numpy-1.24.2-cp39-cp39-win_amd64.whl (14.9 MB)\n",
      "     -------------------------------------- 14.9/14.9 MB 749.8 kB/s eta 0:00:00\n",
      "Requirement already satisfied: pandas>=1.3.4 in c:\\users\\yanga\\anaconda3\\lib\\site-packages (from pyLDAvis) (1.4.4)\n",
      "Requirement already satisfied: numexpr in c:\\users\\yanga\\anaconda3\\lib\\site-packages (from pyLDAvis) (2.8.3)\n",
      "Requirement already satisfied: gensim in c:\\users\\yanga\\anaconda3\\lib\\site-packages (from pyLDAvis) (4.1.2)\n",
      "Collecting joblib>=1.2.0\n",
      "  Downloading joblib-1.2.0-py3-none-any.whl (297 kB)\n",
      "     ------------------------------------ 298.0/298.0 kB 767.3 kB/s eta 0:00:00\n",
      "Requirement already satisfied: scikit-learn>=1.0.0 in c:\\users\\yanga\\anaconda3\\lib\\site-packages (from pyLDAvis) (1.0.2)\n",
      "Requirement already satisfied: scipy in c:\\users\\yanga\\anaconda3\\lib\\site-packages (from pyLDAvis) (1.9.1)\n",
      "Collecting funcy\n",
      "  Downloading funcy-2.0-py2.py3-none-any.whl (30 kB)\n",
      "Requirement already satisfied: setuptools in c:\\users\\yanga\\anaconda3\\lib\\site-packages (from pyLDAvis) (63.4.1)\n",
      "Requirement already satisfied: jinja2 in c:\\users\\yanga\\anaconda3\\lib\\site-packages (from pyLDAvis) (2.11.3)\n",
      "Requirement already satisfied: python-dateutil>=2.8.1 in c:\\users\\yanga\\anaconda3\\lib\\site-packages (from pandas>=1.3.4->pyLDAvis) (2.8.2)\n",
      "Requirement already satisfied: pytz>=2020.1 in c:\\users\\yanga\\anaconda3\\lib\\site-packages (from pandas>=1.3.4->pyLDAvis) (2022.1)\n",
      "Requirement already satisfied: threadpoolctl>=2.0.0 in c:\\users\\yanga\\anaconda3\\lib\\site-packages (from scikit-learn>=1.0.0->pyLDAvis) (2.2.0)\n",
      "Requirement already satisfied: smart-open>=1.8.1 in c:\\users\\yanga\\anaconda3\\lib\\site-packages (from gensim->pyLDAvis) (5.2.1)\n",
      "Requirement already satisfied: MarkupSafe>=0.23 in c:\\users\\yanga\\anaconda3\\lib\\site-packages (from jinja2->pyLDAvis) (2.0.1)\n",
      "Requirement already satisfied: packaging in c:\\users\\yanga\\anaconda3\\lib\\site-packages (from numexpr->pyLDAvis) (21.3)\n",
      "Requirement already satisfied: six>=1.5 in c:\\users\\yanga\\anaconda3\\lib\\site-packages (from python-dateutil>=2.8.1->pandas>=1.3.4->pyLDAvis) (1.16.0)\n",
      "Requirement already satisfied: pyparsing!=3.0.5,>=2.0.2 in c:\\users\\yanga\\anaconda3\\lib\\site-packages (from packaging->numexpr->pyLDAvis) (3.0.9)\n",
      "Installing collected packages: funcy, numpy, joblib, pyLDAvis\n",
      "  Attempting uninstall: numpy\n",
      "    Found existing installation: numpy 1.21.5\n",
      "    Uninstalling numpy-1.21.5:\n",
      "      Successfully uninstalled numpy-1.21.5\n",
      "Note: you may need to restart the kernel to use updated packages.\n"
     ]
    },
    {
     "name": "stderr",
     "output_type": "stream",
     "text": [
      "ERROR: Could not install packages due to an OSError: [WinError 5] 存取被拒。: 'C:\\\\Users\\\\yanga\\\\anaconda3\\\\Lib\\\\site-packages\\\\~umpy\\\\core\\\\_multiarray_tests.cp39-win_amd64.pyd'\n",
      "Consider using the `--user` option or check the permissions.\n",
      "\n"
     ]
    }
   ],
   "source": [
    "pip install pyLDAvis\n"
   ]
  },
  {
   "cell_type": "code",
   "execution_count": 39,
   "id": "593810df",
   "metadata": {},
   "outputs": [
    {
     "ename": "ModuleNotFoundError",
     "evalue": "No module named 'pyLDAvis'",
     "output_type": "error",
     "traceback": [
      "\u001b[1;31m---------------------------------------------------------------------------\u001b[0m",
      "\u001b[1;31mModuleNotFoundError\u001b[0m                       Traceback (most recent call last)",
      "\u001b[1;32m~\\AppData\\Local\\Temp\\ipykernel_16316\\1380282904.py\u001b[0m in \u001b[0;36m<module>\u001b[1;34m\u001b[0m\n\u001b[0;32m      1\u001b[0m \u001b[1;31m# 輸出主題模型分析結果\u001b[0m\u001b[1;33m\u001b[0m\u001b[1;33m\u001b[0m\u001b[0m\n\u001b[1;32m----> 2\u001b[1;33m \u001b[1;32mimport\u001b[0m \u001b[0mpyLDAvis\u001b[0m\u001b[1;33m.\u001b[0m\u001b[0mgensim\u001b[0m\u001b[1;33m\u001b[0m\u001b[1;33m\u001b[0m\u001b[0m\n\u001b[0m\u001b[0;32m      3\u001b[0m \u001b[0mpyLDAvis\u001b[0m\u001b[1;33m.\u001b[0m\u001b[0menable_notebook\u001b[0m\u001b[1;33m(\u001b[0m\u001b[1;33m)\u001b[0m\u001b[1;33m\u001b[0m\u001b[1;33m\u001b[0m\u001b[0m\n\u001b[0;32m      4\u001b[0m \u001b[0mvis\u001b[0m \u001b[1;33m=\u001b[0m \u001b[0mpyLDAvis\u001b[0m\u001b[1;33m.\u001b[0m\u001b[0mgensim\u001b[0m\u001b[1;33m.\u001b[0m\u001b[0mprepare\u001b[0m\u001b[1;33m(\u001b[0m\u001b[0mlda_model\u001b[0m\u001b[1;33m,\u001b[0m \u001b[0mcorpus\u001b[0m\u001b[1;33m,\u001b[0m \u001b[0mdictionary\u001b[0m\u001b[1;33m)\u001b[0m\u001b[1;33m\u001b[0m\u001b[1;33m\u001b[0m\u001b[0m\n\u001b[0;32m      5\u001b[0m \u001b[0mpyLDAvis\u001b[0m\u001b[1;33m.\u001b[0m\u001b[0mdisplay\u001b[0m\u001b[1;33m(\u001b[0m\u001b[0mvis\u001b[0m\u001b[1;33m)\u001b[0m\u001b[1;33m\u001b[0m\u001b[1;33m\u001b[0m\u001b[0m\n",
      "\u001b[1;31mModuleNotFoundError\u001b[0m: No module named 'pyLDAvis'"
     ]
    }
   ],
   "source": [
    "# 輸出主題模型分析結果\n",
    "import pyLDAvis.gensim\n",
    "pyLDAvis.enable_notebook()\n",
    "vis = pyLDAvis.gensim.prepare(lda_model, corpus, dictionary)\n",
    "pyLDAvis.display(vis)"
   ]
  },
  {
   "cell_type": "code",
   "execution_count": null,
   "id": "0f78a153",
   "metadata": {},
   "outputs": [],
   "source": []
  }
 ],
 "metadata": {
  "kernelspec": {
   "display_name": "Python 3 (ipykernel)",
   "language": "python",
   "name": "python3"
  },
  "language_info": {
   "codemirror_mode": {
    "name": "ipython",
    "version": 3
   },
   "file_extension": ".py",
   "mimetype": "text/x-python",
   "name": "python",
   "nbconvert_exporter": "python",
   "pygments_lexer": "ipython3",
   "version": "3.9.13"
  }
 },
 "nbformat": 4,
 "nbformat_minor": 5
}
