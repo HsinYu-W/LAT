{
 "cells": [
  {
   "cell_type": "code",
   "execution_count": 41,
   "id": "19d54095",
   "metadata": {},
   "outputs": [],
   "source": [
    "import openai\n",
    "import pandas as pd"
   ]
  },
  {
   "cell_type": "code",
   "execution_count": 2,
   "id": "23023f9c",
   "metadata": {},
   "outputs": [],
   "source": [
    "with open(\"001.txt\", \"r\", encoding='utf-8') as fh:\n",
    "    tmp = fh.read()\n",
    "    itemlist = tmp.split(\",\")"
   ]
  },
  {
   "cell_type": "code",
   "execution_count": 28,
   "id": "9fc30730",
   "metadata": {},
   "outputs": [],
   "source": [
    "with open(\"002.txt\", \"r\", encoding='utf-8') as fh:\n",
    "    tmp = fh.read()\n",
    "    itemlist = tmp.split(\",\")"
   ]
  },
  {
   "cell_type": "code",
   "execution_count": null,
   "id": "3e9caedf",
   "metadata": {},
   "outputs": [],
   "source": [
    "with open(\"003.txt\", \"r\", encoding='utf-8') as fh:\n",
    "    tmp = fh.read()\n",
    "    itemlist = tmp.split(\",\")"
   ]
  },
  {
   "cell_type": "code",
   "execution_count": 29,
   "id": "7398f9e3",
   "metadata": {},
   "outputs": [],
   "source": [
    "itemlist = str(itemlist)"
   ]
  },
  {
   "cell_type": "code",
   "execution_count": 30,
   "id": "154046e7",
   "metadata": {},
   "outputs": [],
   "source": [
    "keyfile = open(\"key02.txt\", \"r\")\n",
    "key = keyfile.readline()\n",
    "openai.api_key = key"
   ]
  },
  {
   "cell_type": "code",
   "execution_count": 31,
   "id": "04194091",
   "metadata": {},
   "outputs": [],
   "source": [
    "data = [itemlist[0:3200], itemlist[3201:6400], \n",
    "        itemlist[6401:9600], itemlist[9601:12800], itemlist[12801:16000]]"
   ]
  },
  {
   "cell_type": "code",
   "execution_count": 32,
   "id": "c7e72756",
   "metadata": {
    "scrolled": true
   },
   "outputs": [
    {
     "data": {
      "text/plain": [
       "'[\\'Blockchain: Research and Applications 2 (2021) 100023\\\\n\\\\nContents lists available at ScienceDirect\\\\n\\\\nBlockchain: Research and Applications\\\\n\\\\njournal homepage: www.journals.elsevier.com/blockchain-research-and-applications\\\\n\\\\nApplications of Blockchain Technology in marketing—A systematic review\\\\n\\\\nof marketing technology companies\\\\n\\\\nValerio Stallone a\\', \\' b\\', \\' *\\', \\' Martin Wetzels b\\', \\' Michael Klaas a\\\\n\\\\na Zürich University of Applied Sciences\\', \\' Theaterstrasse 17\\', \\' 8401\\', \\' Winterthur\\', \\' Switzerland b Maastricht University\\', \\' 6200\\', \\' MD Maastricht\\', \\' the Netherlands\\\\n\\\\nA R T I C L E I N F O\\\\n\\\\nA B S T R A C T\\\\n\\\\nKeywords:\\\\n\\\\nGiven the emerging nature of integrating Blockchain Technology (BCT) into several business fields concerning the Blockchain\\\\n\\\\ninteraction between companies and their customers\\', \\' this study aims to investigate the applications of BCT in Marketing\\\\n\\\\nmarketing through an accurate procedure of locating\\', \\' selecting and analyzing existing companies using BCT in Blockchain applications\\\\n\\\\nmarketing. A sample that consists of 800 companies was identified using web-scraping methods. The data set was Blockchain in marketing\\\\n\\\\ncollected from initial coin offerings (ICO) websites as well as from an existing\\', \\' older landscape of applications.\\\\n\\\\nThe data set was then intensively analyzed in order to be categorized into five fields of marketing technology.\\\\n\\\\nAdvertising and ecommerce outgrew the other fields of social & relationship\\', \\' content & experience and data in absolute numbers\\', \" revealing the focus of practitioners in the past as well as gaps for the future. The authors provided future directions for researchers on and development of tools to systematically generate knowledge and improve the application of BCT and the work of practitioners in marketing.\\\\n\\\\n1. Introduction\\\\n\\\\nin giving up to non-governmental parties and trust them with the in-\\\\n\\\\ndividuals\\' most private secrets [8]. Tapscott & Tapscott reflect this feeling The environmental change society is facing is an explicit request for\\\\n\\\\nby mentioning that “many people are simply unaware of the many\\\\n\\\\ncompanies for being responsive to change\", \\' both internally and externally\\\\n\\\\nmicro-Faustian deals they make online every day” [7].\\\\n\\\\nregarding their interaction with the market and the environment. The\\\\n\\\\nSeveral applications of BCT are already leveraging its disruptive po-\\\\n\\\\nmanagement of the external marketing environment craves for answers\\\\n\\\\ntentials and preparing for a future with less micro-Faustian deals to make.\\\\n\\\\non technological agility. These questions arise from changes in payments\\', \\'\\\\n\\\\nNew applications are arising in different areas as insurance\\', \\' logistics\\', \\'\\\\n\\\\nadvertising\\', \\' delivery and distribution\\', \\' due to technological advances and\\\\n\\\\ngaming and 3D printing. Academic sources have shown its potential\\\\n\\\\ndiscussions in academia about Blockchain Technology (BCT) and net\\\\n\\\\nimplications on marketing [9–14]\\', \\' most of the research conducted being neutrality\\', \\' just to name a few [1]. Academics\\', \\' practitioners\\', \" law-makers of conceptual nature [15]. Inspired by Scott Brinker\\'s Marketing Tech-and philosophers: They'"
      ]
     },
     "execution_count": 32,
     "metadata": {},
     "output_type": "execute_result"
    }
   ],
   "source": [
    "data[0]"
   ]
  },
  {
   "cell_type": "code",
   "execution_count": 35,
   "id": "67a327be",
   "metadata": {},
   "outputs": [],
   "source": [
    "def chatgptfn(sub_list):\n",
    "    result = ''\n",
    "    response = openai.ChatCompletion.create(\n",
    "        model=\"gpt-3.5-turbo\",\n",
    "        messages=[\n",
    "            {\"role\": \"system\", \"content\": \"You are an assistant\"},\n",
    "            {\"role\": \"user\", \"content\": f\"{sub_list} :give me a summary\"}\n",
    "        ]\n",
    "    )\n",
    "    for choice in response.choices:\n",
    "        result += choice.message.content\n",
    "    return result"
   ]
  },
  {
   "cell_type": "code",
   "execution_count": null,
   "id": "44c2b46f",
   "metadata": {},
   "outputs": [],
   "source": [
    "data[0] = chatgptfn(data[0])"
   ]
  },
  {
   "cell_type": "code",
   "execution_count": null,
   "id": "b5bdb297",
   "metadata": {},
   "outputs": [],
   "source": [
    "for i in range(0,5):\n",
    "    data[i] = chatgptfn(data[i])"
   ]
  },
  {
   "cell_type": "code",
   "execution_count": null,
   "id": "da4f08e1",
   "metadata": {},
   "outputs": [],
   "source": [
    "data[0]"
   ]
  },
  {
   "cell_type": "code",
   "execution_count": null,
   "id": "313e2492",
   "metadata": {},
   "outputs": [],
   "source": [
    "data1=''\n",
    "for i in range(0,5):\n",
    "    data1=data1+ data[i]"
   ]
  },
  {
   "cell_type": "code",
   "execution_count": 27,
   "id": "b363de72",
   "metadata": {},
   "outputs": [
    {
     "data": {
      "text/plain": [
       "'The article highlights the impact of digital transformation on marketing activities in small and medium-sized enterprises (SMEs) in Poland. It discusses how digital technologies are being used in marketing in SMEs and how modern marketing communication instruments are necessary for survival in the global market. The study also shows that IT technologies and digital tools can help build relationships with clients and create value for organizations. Overall, the article emphasizes the importance of adapting to digital transformation in marketing for SMEs to remain competitive.The article discusses the importance of digital transformation and how it can lead to organizational change, particularly in marketing and sustainability. Digital technologies and media play a significant role in achieving marketing objectives, and SMEs can enhance digital transformation and sustainable development. With the emergence of the digital economy, companies must embrace sustainability through digital transformation to reach their goals.The article highlights the importance of digital transformation for small and medium-sized enterprises (SMEs) in order to sustain in the digital era. The focus should be on improving customer experience, building data analytics capabilities, and innovating at the business model level. The implementation of digital marketing tools is crucial for sustainable development of SMEs. The article emphasizes that digital transformation is a continuous process and requires appropriate cultures, leadership, IT infrastructure, and processes. Overall, the objective of the article is to explore how digital economy technologies relate to SME marketing.The article discusses a study conducted in Poland in 2020 on the importance of digital transformation for small and medium-sized enterprises (SMEs) in catering to the preferences of the X, Y, and Z generations. The study employed diagnostic survey and structured questionnaires using computer-assisted web interviewing. The article notes that the study’s results cannot be generalized for all SMEs in Poland.The article discusses the profile of respondents in a survey on digital marketing trends, with managers and business owners being the majority respondents. It also identifies macro and micro trends in digital marketing and their impact on consumer behaviour and business activities. Finally, the article explores the challenges faced by small and medium-sized enterprises (SMEs) in Poland in accessing and utilizing ICT for marketing, highlighting financial and human resource limitations as key barriers.'"
      ]
     },
     "execution_count": 27,
     "metadata": {},
     "output_type": "execute_result"
    }
   ],
   "source": [
    "data1"
   ]
  },
  {
   "cell_type": "code",
   "execution_count": null,
   "id": "06967cbb",
   "metadata": {},
   "outputs": [],
   "source": [
    "data2=''\n",
    "for i in range(0,5):\n",
    "    data2=data2+ data[i]"
   ]
  },
  {
   "cell_type": "code",
   "execution_count": null,
   "id": "8d92b5ad",
   "metadata": {},
   "outputs": [],
   "source": [
    "data2"
   ]
  },
  {
   "cell_type": "code",
   "execution_count": null,
   "id": "40b4cca8",
   "metadata": {},
   "outputs": [],
   "source": [
    "data3=''\n",
    "for i in range(0,5):\n",
    "    data3=data3+ data[i]"
   ]
  },
  {
   "cell_type": "code",
   "execution_count": null,
   "id": "92e5a348",
   "metadata": {},
   "outputs": [],
   "source": [
    "data3"
   ]
  },
  {
   "cell_type": "code",
   "execution_count": null,
   "id": "b73c4e4c",
   "metadata": {},
   "outputs": [],
   "source": [
    "papers=[data1,data2,data3 ]"
   ]
  },
  {
   "cell_type": "code",
   "execution_count": 19,
   "id": "1bf69c8e",
   "metadata": {},
   "outputs": [],
   "source": [
    "import gensim\n",
    "from gensim import corpora\n",
    "from pprint import pprint"
   ]
  },
  {
   "cell_type": "code",
   "execution_count": 20,
   "id": "449f5511",
   "metadata": {},
   "outputs": [],
   "source": [
    "# 創建詞袋\n",
    "texts = [[word for word in document.lower().split()] for document in papers]\n",
    "dictionary = corpora.Dictionary(texts)\n",
    "corpus = [dictionary.doc2bow(text) for text in texts]"
   ]
  },
  {
   "cell_type": "code",
   "execution_count": 21,
   "id": "18fb70af",
   "metadata": {},
   "outputs": [],
   "source": [
    "# 訓練 LDA 模型\n",
    "lda_model = gensim.models.ldamodel.LdaModel(corpus=corpus, id2word=dictionary, \n",
    "                                            num_topics=3, random_state=100, update_every=1, \n",
    "                                            chunksize=100, passes=10, alpha='auto', per_word_topics=True)"
   ]
  },
  {
   "cell_type": "code",
   "execution_count": 22,
   "id": "6afed29c",
   "metadata": {},
   "outputs": [
    {
     "name": "stdout",
     "output_type": "stream",
     "text": [
      "Collecting pyLDAvisNote: you may need to restart the kernel to use updated packages.\n",
      "\n",
      "  Using cached pyLDAvis-3.4.0-py3-none-any.whl (2.6 MB)\n",
      "Requirement already satisfied: funcy in c:\\users\\yanga\\anaconda3\\lib\\site-packages (from pyLDAvis) (2.0)\n",
      "Collecting joblib>=1.2.0\n",
      "  Using cached joblib-1.2.0-py3-none-any.whl (297 kB)\n",
      "Requirement already satisfied: scikit-learn>=1.0.0 in c:\\users\\yanga\\anaconda3\\lib\\site-packages (from pyLDAvis) (1.0.2)\n",
      "Requirement already satisfied: numpy>=1.22.0 in c:\\users\\yanga\\anaconda3\\lib\\site-packages (from pyLDAvis) (1.24.2)\n",
      "Requirement already satisfied: scipy in c:\\users\\yanga\\anaconda3\\lib\\site-packages (from pyLDAvis) (1.9.1)\n",
      "Requirement already satisfied: setuptools in c:\\users\\yanga\\anaconda3\\lib\\site-packages (from pyLDAvis) (63.4.1)\n",
      "Requirement already satisfied: pandas>=1.3.4 in c:\\users\\yanga\\anaconda3\\lib\\site-packages (from pyLDAvis) (1.4.4)\n",
      "Requirement already satisfied: jinja2 in c:\\users\\yanga\\anaconda3\\lib\\site-packages (from pyLDAvis) (2.11.3)\n",
      "Requirement already satisfied: gensim in c:\\users\\yanga\\anaconda3\\lib\\site-packages (from pyLDAvis) (4.1.2)\n",
      "Requirement already satisfied: numexpr in c:\\users\\yanga\\anaconda3\\lib\\site-packages (from pyLDAvis) (2.8.3)\n",
      "Requirement already satisfied: pytz>=2020.1 in c:\\users\\yanga\\anaconda3\\lib\\site-packages (from pandas>=1.3.4->pyLDAvis) (2022.1)\n",
      "Requirement already satisfied: python-dateutil>=2.8.1 in c:\\users\\yanga\\anaconda3\\lib\\site-packages (from pandas>=1.3.4->pyLDAvis) (2.8.2)\n",
      "Requirement already satisfied: threadpoolctl>=2.0.0 in c:\\users\\yanga\\anaconda3\\lib\\site-packages (from scikit-learn>=1.0.0->pyLDAvis) (2.2.0)\n",
      "Requirement already satisfied: smart-open>=1.8.1 in c:\\users\\yanga\\anaconda3\\lib\\site-packages (from gensim->pyLDAvis) (5.2.1)\n",
      "Requirement already satisfied: MarkupSafe>=0.23 in c:\\users\\yanga\\anaconda3\\lib\\site-packages (from jinja2->pyLDAvis) (2.0.1)\n",
      "Requirement already satisfied: packaging in c:\\users\\yanga\\anaconda3\\lib\\site-packages (from numexpr->pyLDAvis) (21.3)\n",
      "Requirement already satisfied: six>=1.5 in c:\\users\\yanga\\anaconda3\\lib\\site-packages (from python-dateutil>=2.8.1->pandas>=1.3.4->pyLDAvis) (1.16.0)\n",
      "Requirement already satisfied: pyparsing!=3.0.5,>=2.0.2 in c:\\users\\yanga\\anaconda3\\lib\\site-packages (from packaging->numexpr->pyLDAvis) (3.0.9)\n",
      "Installing collected packages: joblib, pyLDAvis\n",
      "  Attempting uninstall: joblib\n",
      "    Found existing installation: joblib 1.1.0\n",
      "    Uninstalling joblib-1.1.0:\n",
      "      Successfully uninstalled joblib-1.1.0\n",
      "Successfully installed joblib-1.2.0 pyLDAvis-3.4.0\n"
     ]
    }
   ],
   "source": [
    "pip install pyLDAvis\n"
   ]
  },
  {
   "cell_type": "code",
   "execution_count": 23,
   "id": "593810df",
   "metadata": {},
   "outputs": [
    {
     "name": "stderr",
     "output_type": "stream",
     "text": [
      "C:\\Users\\yanga\\anaconda3\\lib\\site-packages\\pyLDAvis\\_prepare.py:243: FutureWarning: In a future version of pandas all arguments of DataFrame.drop except for the argument 'labels' will be keyword-only.\n",
      "  default_term_info = default_term_info.sort_values(\n"
     ]
    },
    {
     "data": {
      "text/html": [
       "\n",
       "<link rel=\"stylesheet\" type=\"text/css\" href=\"https://cdn.jsdelivr.net/gh/bmabey/pyLDAvis@3.4.0/pyLDAvis/js/ldavis.v1.0.0.css\">\n",
       "\n",
       "\n",
       "<div id=\"ldavis_el978420825610810081257946782\" style=\"background-color:white;\"></div>\n",
       "<script type=\"text/javascript\">\n",
       "\n",
       "var ldavis_el978420825610810081257946782_data = {\"mdsDat\": {\"x\": [0.0460521082740868, -0.0636605513463757, 0.017608443072288902], \"y\": [0.040649414773312915, 0.014227053659662233, -0.05487646843297516], \"topics\": [1, 2, 3], \"cluster\": [1, 1, 1], \"Freq\": [47.278116398063034, 36.135679328736906, 16.586204273200053]}, \"tinfo\": {\"Term\": [\"the\", \"study\", \"and\", \"in\", \"for\", \"conducted\", \"all\", \"interviewing.\", \"x,\", \"questionnaires\", \"web\", \"catering\", \"generalized\", \"preferences\", \"results\", \"2020\", \"computer-assisted\", \"structured\", \"study\\u2019s\", \"y,\", \"notes\", \"employed\", \"using\", \"diagnostic\", \"cannot\", \"z\", \"generations.\", \"poland\", \"survey\", \"that\", \"is\", \"overall,\", \"tools\", \"highlights\", \"are\", \"emphasizes\", \"processes.\", \"relate\", \"era.\", \"implementation\", \"marketing.\", \"crucial\", \"leadership,\", \"development\", \"continuous\", \"building\", \"should\", \"order\", \"objective\", \"analytics\", \"improving\", \"sustain\", \"innovating\", \"sme\", \"cultures,\", \"smes.\", \"explore\", \"infrastructure,\", \"economy\", \"at\", \"how\", \"technologies\", \"for\", \"to\", \"the\", \"digital\", \"of\", \"that\", \"marketing\", \"in\", \"article\", \"it\", \"transformation\", \"and\", \"enterprises\", \"medium-sized\", \"(smes)\", \"importance\", \"small\", \"smes\", \"on\", \"a\", \"can\", \"business\", \"their\", \"trends,\", \"behaviour\", \"macro\", \"trends\", \"explores\", \"utilizing\", \"micro\", \"accessing\", \"barriers.\", \"identifies\", \"respondents.\", \"highlighting\", \"human\", \"ict\", \"as\", \"challenges\", \"limitations\", \"managers\", \"marketing,\", \"financial\", \"profile\", \"majority\", \"owners\", \"key\", \"by\", \"finally,\", \"faced\", \"resource\", \"activities.\", \"and\", \"business\", \"with\", \"can\", \"digital\", \"marketing\", \"the\", \"in\", \"discusses\", \"a\", \"transformation\", \"article\", \"of\", \"on\", \"it\", \"to\", \"for\", \"medium-sized\", \"small\", \"technologies\", \"importance\", \"enterprises\", \"also\", \"impact\", \"poland\", \"conducted\", \"all\", \"interviewing.\", \"x,\", \"questionnaires\", \"web\", \"catering\", \"generalized\", \"preferences\", \"2020\", \"results\", \"computer-assisted\", \"structured\", \"y,\", \"study\\u2019s\", \"notes\", \"employed\", \"using\", \"diagnostic\", \"cannot\", \"z\", \"generations.\", \"study\", \"survey\", \"poland\", \"poland.\", \"be\", \"that\", \"discusses\", \"a\", \"smes\", \"for\", \"the\", \"in\", \"and\", \"article\", \"of\", \"digital\", \"transformation\", \"to\", \"small\", \"(smes)\", \"importance\", \"on\", \"medium-sized\", \"enterprises\"], \"Freq\": [21.0, 2.0, 16.0, 12.0, 6.0, 1.0, 1.0, 1.0, 1.0, 1.0, 1.0, 1.0, 1.0, 1.0, 1.0, 1.0, 1.0, 1.0, 1.0, 1.0, 1.0, 1.0, 1.0, 1.0, 1.0, 1.0, 1.0, 1.0, 1.0, 2.0, 2.5120514539782346, 1.7560100500348317, 1.7545044233386629, 1.7533518703156483, 1.7533050422791447, 1.7507575322794493, 1.0059263389847501, 1.0058732726112036, 1.00560194545852, 1.0053905711553397, 1.005429297455424, 1.0052991025511653, 1.0051329359372048, 1.0051289660863594, 1.0051381210485133, 1.0051173806032798, 1.0050694993410414, 1.0049826487266262, 1.0049102192030372, 1.0049916416540516, 1.0049246402938639, 1.004813322435462, 1.004704759167443, 1.004725661647405, 1.004631762522305, 1.00448309565901, 1.0045070767988113, 1.0045304908170631, 1.0044391842476172, 1.0044222516185008, 2.5059988087340788, 2.504553134887413, 3.990656104598341, 4.018798944363453, 11.491160719836508, 7.030999267654078, 4.7559937649787445, 1.7481256021862646, 4.008846447276486, 6.262245591129827, 4.01707068195048, 2.5077633669262096, 3.258609775442807, 6.287594952177551, 1.7561356269493316, 1.7543380136726097, 1.7537525821989486, 1.7532134926576062, 1.7481197689360428, 1.7471368662736493, 1.755382813601247, 1.0110879552575076, 1.0095726874949997, 1.0091840471989642, 1.6287760252928372, 0.9333135266836006, 0.9329930735505615, 0.932999203958324, 0.932992268547522, 0.932796652808919, 0.9327741746471232, 0.9325682177156279, 0.932499297070783, 0.9323611461645395, 0.9323338999078173, 0.9323182333102021, 0.932273153139989, 0.9322506749781933, 0.9322523469075831, 0.9322902439737512, 0.9323000897801575, 0.9322335222211204, 0.9322348226106458, 0.9321968016978562, 0.9321153106209327, 0.9320728931530812, 0.9321185925564015, 0.9320107221491061, 0.9320322095379301, 0.9319203760387478, 0.9318662550651678, 0.93201951525923, 0.93195016115121, 0.931879630500286, 8.60683687910477, 1.6328014120302938, 1.6316393591810936, 1.627110783620627, 5.127699939554486, 3.0259883439431925, 6.534148243847169, 4.421422472802562, 1.631877392387548, 1.628724009711822, 2.3330642676108004, 2.3305618227774914, 2.3334145058563016, 1.6327732988472214, 1.633009722047597, 1.6311242810824234, 0.9384332840916273, 0.9352515405395859, 0.9344894503544049, 0.9340900450001822, 0.9336238863169903, 0.9336109443450473, 0.9331787815594473, 0.9330192051876905, 0.9329185178844399, 0.679442802959049, 0.679430240136557, 0.6793907894632109, 0.6793817510524587, 0.6793720873428495, 0.6793672554880448, 0.679366118581032, 0.679361173035526, 0.6793537831399425, 0.6793396286476325, 0.679340026565087, 0.6793361610812433, 0.6793269521344392, 0.6793227455784916, 0.6793234277226993, 0.67931552621896, 0.6792991547579749, 0.6792852844924181, 0.6792211060915425, 0.6791518684544596, 0.6791485145787718, 0.6791451607030838, 1.2019867536092068, 0.6810362918282649, 0.6805414530509203, 0.6891389712635234, 0.6835855215778364, 0.690530943364711, 0.6895835587508998, 0.6849543576213123, 0.6952308601104981, 1.2197240946795442, 3.8302038000429075, 2.2579982848704243, 1.749360753420092, 1.2101816930485583, 1.220466153886834, 0.7178009655110745, 0.6994332095021096, 0.697625527351672, 0.6931367342381719, 0.6905869928804447, 0.6903370438736688, 0.6907548003555419, 0.6883977647364934, 0.6883798016056902], \"Total\": [21.0, 2.0, 16.0, 12.0, 6.0, 1.0, 1.0, 1.0, 1.0, 1.0, 1.0, 1.0, 1.0, 1.0, 1.0, 1.0, 1.0, 1.0, 1.0, 1.0, 1.0, 1.0, 1.0, 1.0, 1.0, 1.0, 1.0, 1.0, 1.0, 2.0, 2.924922466795438, 2.1679640688142716, 2.167260395762959, 2.1667910351889135, 2.1669582601841206, 2.166119591153467, 1.4125528412816106, 1.412609585366431, 1.4124481841954557, 1.4124033104362335, 1.4124832625182464, 1.4123356973892198, 1.4123190484595989, 1.4123181653244592, 1.4123773706983829, 1.4123729221185455, 1.4123136509333507, 1.4122415087246214, 1.4122300917972004, 1.412349232525764, 1.41226874184096, 1.4122445478839691, 1.412156198083096, 1.412272304617714, 1.4122658163809678, 1.4121570842112756, 1.412213703257891, 1.412272952128423, 1.4121694229093946, 1.4121612750436499, 3.6228336555453353, 3.6229237696682004, 6.148813483369513, 6.3475487527975485, 21.855512763726587, 12.876500172719638, 8.30987442472188, 2.6750121101903295, 7.2356910589075625, 12.941666348802814, 7.557814197776529, 4.324937444223685, 6.291107252555718, 16.643792584702414, 3.378126372900069, 3.377987318948689, 3.3771197562876574, 3.377174422848265, 3.37574595352862, 3.374884919291732, 4.078910912804011, 3.324766322590642, 2.81411260447397, 2.815543040502717, 2.0592367999139554, 1.357791323633251, 1.3575969924597031, 1.357706239128335, 1.357742373120867, 1.3577381399910802, 1.357706270322076, 1.3576377350832491, 1.3577867535539945, 1.3576350041300027, 1.3576013060658356, 1.3576754211085706, 1.3576412678449188, 1.3576148995125268, 1.3576313113261471, 1.3577255028336972, 1.3577505136712884, 1.3576902698230133, 1.3576933807044314, 1.3577387133273684, 1.3576353180618341, 1.357643007650401, 1.3577442855133854, 1.3576341210259, 1.35770975019217, 1.3576190801304062, 1.357568073574984, 1.3578047925706427, 1.3577131976115466, 1.3576566244528234, 16.643792584702414, 2.815543040502717, 2.8136503760838485, 2.81411260447397, 12.876500172719638, 7.2356910589075625, 21.855512763726587, 12.941666348802814, 3.322267721862457, 3.324766322590642, 6.291107252555718, 7.557814197776529, 8.30987442472188, 4.078910912804011, 4.324937444223685, 6.3475487527975485, 6.148813483369513, 3.377987318948689, 3.37574595352862, 3.6229237696682004, 3.377174422848265, 3.378126372900069, 2.1125447127277117, 2.1119912514055827, 1.8674474227560478, 1.1660379049251903, 1.1660464223685874, 1.166060717921265, 1.166062369124811, 1.166069369939037, 1.1660714370276466, 1.1660713510652174, 1.1660749491595594, 1.1660747823810302, 1.1660789936335498, 1.1660839919139934, 1.1660840979256653, 1.1660874458535981, 1.1660865889212433, 1.1660909417226422, 1.1660962417883154, 1.1660993678876548, 1.1661074274888723, 1.1661342746312542, 1.1661587685168056, 1.166162536754038, 1.1661630611847493, 2.4267102229661934, 1.867334832798386, 1.8674474227560478, 1.9184767345028697, 1.9211935145370236, 2.6750121101903295, 3.322267721862457, 3.324766322590642, 3.374884919291732, 6.148813483369513, 21.855512763726587, 12.941666348802814, 16.643792584702414, 7.557814197776529, 8.30987442472188, 12.876500172719638, 6.291107252555718, 6.3475487527975485, 3.37574595352862, 3.3771197562876574, 3.377174422848265, 4.078910912804011, 3.377987318948689, 3.378126372900069], \"Category\": [\"Default\", \"Default\", \"Default\", \"Default\", \"Default\", \"Default\", \"Default\", \"Default\", \"Default\", \"Default\", \"Default\", \"Default\", \"Default\", \"Default\", \"Default\", \"Default\", \"Default\", \"Default\", \"Default\", \"Default\", \"Default\", \"Default\", \"Default\", \"Default\", \"Default\", \"Default\", \"Default\", \"Default\", \"Default\", \"Default\", \"Topic1\", \"Topic1\", \"Topic1\", \"Topic1\", \"Topic1\", \"Topic1\", \"Topic1\", \"Topic1\", \"Topic1\", \"Topic1\", \"Topic1\", \"Topic1\", \"Topic1\", \"Topic1\", \"Topic1\", \"Topic1\", \"Topic1\", \"Topic1\", \"Topic1\", \"Topic1\", \"Topic1\", \"Topic1\", \"Topic1\", \"Topic1\", \"Topic1\", \"Topic1\", \"Topic1\", \"Topic1\", \"Topic1\", \"Topic1\", \"Topic1\", \"Topic1\", \"Topic1\", \"Topic1\", \"Topic1\", \"Topic1\", \"Topic1\", \"Topic1\", \"Topic1\", \"Topic1\", \"Topic1\", \"Topic1\", \"Topic1\", \"Topic1\", \"Topic1\", \"Topic1\", \"Topic1\", \"Topic1\", \"Topic1\", \"Topic1\", \"Topic1\", \"Topic1\", \"Topic1\", \"Topic1\", \"Topic2\", \"Topic2\", \"Topic2\", \"Topic2\", \"Topic2\", \"Topic2\", \"Topic2\", \"Topic2\", \"Topic2\", \"Topic2\", \"Topic2\", \"Topic2\", \"Topic2\", \"Topic2\", \"Topic2\", \"Topic2\", \"Topic2\", \"Topic2\", \"Topic2\", \"Topic2\", \"Topic2\", \"Topic2\", \"Topic2\", \"Topic2\", \"Topic2\", \"Topic2\", \"Topic2\", \"Topic2\", \"Topic2\", \"Topic2\", \"Topic2\", \"Topic2\", \"Topic2\", \"Topic2\", \"Topic2\", \"Topic2\", \"Topic2\", \"Topic2\", \"Topic2\", \"Topic2\", \"Topic2\", \"Topic2\", \"Topic2\", \"Topic2\", \"Topic2\", \"Topic2\", \"Topic2\", \"Topic2\", \"Topic2\", \"Topic2\", \"Topic2\", \"Topic2\", \"Topic2\", \"Topic2\", \"Topic2\", \"Topic3\", \"Topic3\", \"Topic3\", \"Topic3\", \"Topic3\", \"Topic3\", \"Topic3\", \"Topic3\", \"Topic3\", \"Topic3\", \"Topic3\", \"Topic3\", \"Topic3\", \"Topic3\", \"Topic3\", \"Topic3\", \"Topic3\", \"Topic3\", \"Topic3\", \"Topic3\", \"Topic3\", \"Topic3\", \"Topic3\", \"Topic3\", \"Topic3\", \"Topic3\", \"Topic3\", \"Topic3\", \"Topic3\", \"Topic3\", \"Topic3\", \"Topic3\", \"Topic3\", \"Topic3\", \"Topic3\", \"Topic3\", \"Topic3\", \"Topic3\", \"Topic3\", \"Topic3\", \"Topic3\", \"Topic3\", \"Topic3\", \"Topic3\", \"Topic3\", \"Topic3\"], \"logprob\": [30.0, 29.0, 28.0, 27.0, 26.0, 25.0, 24.0, 23.0, 22.0, 21.0, 20.0, 19.0, 18.0, 17.0, 16.0, 15.0, 14.0, 13.0, 12.0, 11.0, 10.0, 9.0, 8.0, 7.0, 6.0, 5.0, 4.0, 3.0, 2.0, 1.0, -4.2379, -4.5959, -4.5968, -4.5974, -4.5975, -4.5989, -5.1531, -5.1531, -5.1534, -5.1536, -5.1535, -5.1537, -5.1538, -5.1538, -5.1538, -5.1539, -5.1539, -5.154, -5.1541, -5.154, -5.154, -5.1542, -5.1543, -5.1542, -5.1543, -5.1545, -5.1545, -5.1544, -5.1545, -5.1545, -4.2403, -4.2408, -3.775, -3.768, -2.7174, -3.2086, -3.5996, -4.6004, -3.7705, -3.3244, -3.7684, -4.2396, -3.9777, -3.3204, -4.5958, -4.5969, -4.5972, -4.5975, -4.6004, -4.601, -4.5963, -5.1479, -5.1494, -5.1498, -4.4024, -4.9592, -4.9596, -4.9595, -4.9596, -4.9598, -4.9598, -4.96, -4.9601, -4.9602, -4.9603, -4.9603, -4.9603, -4.9603, -4.9603, -4.9603, -4.9603, -4.9604, -4.9604, -4.9604, -4.9605, -4.9605, -4.9605, -4.9606, -4.9606, -4.9607, -4.9608, -4.9606, -4.9607, -4.9607, -2.7376, -4.3999, -4.4006, -4.4034, -3.2555, -3.783, -3.0132, -3.4037, -4.4005, -4.4024, -4.043, -4.0441, -4.0429, -4.3999, -4.3998, -4.4009, -4.9537, -4.9571, -4.9579, -4.9584, -4.9589, -4.9589, -4.9594, -4.9595, -4.9596, -4.498, -4.498, -4.498, -4.4981, -4.4981, -4.4981, -4.4981, -4.4981, -4.4981, -4.4981, -4.4981, -4.4981, -4.4981, -4.4981, -4.4981, -4.4982, -4.4982, -4.4982, -4.4983, -4.4984, -4.4984, -4.4984, -3.9275, -4.4956, -4.4964, -4.4838, -4.4919, -4.4818, -4.4832, -4.4899, -4.475, -3.9129, -2.7686, -3.297, -3.5522, -3.9207, -3.9123, -4.443, -4.469, -4.4716, -4.478, -4.4817, -4.4821, -4.4815, -4.4849, -4.4849], \"loglift\": [30.0, 29.0, 28.0, 27.0, 26.0, 25.0, 24.0, 23.0, 22.0, 21.0, 20.0, 19.0, 18.0, 17.0, 16.0, 15.0, 14.0, 13.0, 12.0, 11.0, 10.0, 9.0, 8.0, 7.0, 6.0, 5.0, 4.0, 3.0, 2.0, 1.0, 0.597, 0.5384, 0.5378, 0.5374, 0.5373, 0.5362, 0.4096, 0.4095, 0.4094, 0.4092, 0.4092, 0.4092, 0.409, 0.409, 0.409, 0.409, 0.409, 0.4089, 0.4089, 0.4088, 0.4088, 0.4087, 0.4087, 0.4086, 0.4085, 0.4085, 0.4085, 0.4084, 0.4084, 0.4084, 0.3806, 0.38, 0.3168, 0.292, 0.1062, 0.144, 0.1911, 0.3237, 0.1586, 0.0232, 0.1171, 0.2041, 0.0913, -0.2243, 0.0949, 0.0939, 0.0939, 0.0935, 0.091, 0.0907, -0.094, -0.4412, -0.276, -0.2769, 0.7834, 0.643, 0.6428, 0.6427, 0.6427, 0.6425, 0.6425, 0.6423, 0.6421, 0.6421, 0.6421, 0.642, 0.642, 0.642, 0.642, 0.642, 0.642, 0.6419, 0.6419, 0.6419, 0.6418, 0.6418, 0.6418, 0.6417, 0.6417, 0.6416, 0.6416, 0.6416, 0.6416, 0.6416, 0.3584, 0.473, 0.473, 0.47, 0.0971, 0.1461, -0.1895, -0.0561, 0.307, 0.3043, 0.0259, -0.1586, -0.2522, 0.1023, 0.0439, -0.3409, -0.8619, -0.2663, -0.2665, -0.3376, -0.2678, -0.2681, 0.2008, 0.2009, 0.3239, 1.2565, 1.2565, 1.2564, 1.2564, 1.2564, 1.2564, 1.2564, 1.2564, 1.2563, 1.2563, 1.2563, 1.2563, 1.2563, 1.2563, 1.2563, 1.2563, 1.2562, 1.2562, 1.2561, 1.256, 1.256, 1.256, 1.094, 0.7879, 0.7872, 0.7728, 0.7632, 0.4424, 0.2243, 0.2168, 0.2167, 0.179, 0.0551, 0.0506, -0.4562, -0.0352, -0.1216, -1.0904, -0.4, -0.4115, 0.2135, 0.2094, 0.209, 0.0208, 0.2059, 0.2059]}, \"token.table\": {\"Topic\": [1, 2, 3, 3, 1, 2, 3, 2, 2, 3, 1, 2, 1, 1, 2, 3, 1, 1, 2, 3, 2, 1, 2, 1, 3, 2, 1, 1, 2, 2, 1, 2, 3, 3, 2, 3, 3, 1, 1, 1, 1, 3, 1, 2, 3, 1, 2, 3, 1, 1, 3, 1, 2, 3, 1, 1, 2, 2, 2, 2, 1, 2, 3, 3, 3, 2, 1, 1, 2, 2, 2, 2, 1, 2, 1, 1, 2, 3, 1, 1, 2, 3, 1, 1, 3, 1, 1, 2, 2, 1, 2, 2, 2, 2, 1, 2, 2, 1, 1, 2, 3, 2, 3, 1, 1, 2, 3, 1, 2, 3, 1, 1, 2, 2, 3, 1, 3, 3, 1, 2, 3, 1, 2, 2, 3, 1, 1, 2, 3, 1, 1, 2, 3, 1, 3, 1, 3, 3, 2, 3, 1, 1, 2, 1, 3, 1, 2, 3, 2, 1, 2, 3, 1, 1, 2, 3, 2, 2, 3, 2, 3, 1, 2, 3, 3, 3], \"Freq\": [0.5922206330635209, 0.29611031653176045, 0.29611031653176045, 0.8575748345178221, 0.3007730177021297, 0.6015460354042594, 0.3007730177021297, 0.7364926763223378, 0.7365632679051157, 0.8575987892220469, 0.47336276196909594, 0.47336276196909594, 0.7080401765869604, 0.3604947592001777, 0.5407421388002666, 0.12016491973339256, 0.9229527106027715, 0.5292535507391515, 0.26462677536957574, 0.13231338768478787, 0.7365259015264195, 0.7081344161410247, 0.7365749976672252, 0.5205097729267443, 0.5205097729267443, 0.7365956211999214, 0.7080283006983806, 0.35517127091101025, 0.7103425418220205, 0.7365836372187292, 0.3553518073193541, 0.7107036146387082, 0.8575161693221783, 0.8575804551638203, 0.7365123341371831, 0.85757108066124, 0.8576050536403078, 0.7080260706142061, 0.70804696209871, 0.7080819973130635, 0.7080557515666202, 0.8575341808868555, 0.5436259780301416, 0.3883042700215297, 0.07766085400430595, 0.30099922213354974, 0.6019984442670995, 0.30099922213354974, 0.7081303303818669, 0.9233100555334491, 0.8575598508482707, 0.5920441627182322, 0.2960220813591161, 0.2960220813591161, 0.707990573522957, 0.7081081267608867, 0.7365190463063589, 0.7364828917025441, 0.7366113121433582, 0.7365748273458326, 0.650532010902374, 0.1626330027255935, 0.1626330027255935, 0.8575778089742372, 0.8575130127891909, 0.7365715993499311, 0.9230239407122286, 0.828081078303999, 0.276027026101333, 0.736585905442748, 0.7365770011765496, 0.7365932807606668, 0.4734868098219986, 0.4734868098219986, 0.7080130672386636, 0.5922110467463585, 0.29610552337317925, 0.29610552337317925, 0.7080805305486348, 0.4636188137051639, 0.3090792091367759, 0.15453960456838794, 0.7080784196092615, 0.7081369620141389, 0.8575882753195724, 1.0256682131088477, 0.6936516513104138, 0.4624344342069426, 0.7365344469673729, 0.7080553088133231, 0.7365450148879381, 0.7365363516647113, 0.7365157126195405, 0.7365433272431187, 0.5528152000182158, 0.41461140001366187, 0.7365187352943121, 0.7079729909274461, 0.5920685340590468, 0.2960342670295234, 0.2960342670295234, 0.7365735160113834, 0.8575621498157033, 0.7080999093620803, 0.601693809611009, 0.2406775238444036, 0.1203387619222018, 0.49032696294539024, 0.49032696294539024, 0.24516348147269512, 0.7080941848983664, 0.9225245144832421, 0.7365754767892452, 0.5354903103639529, 0.5354903103639529, 0.5212468736344241, 0.5212468736344241, 0.857577931629806, 0.7079381179770231, 0.7365706554410395, 0.857581912174128, 0.7079096803244471, 0.7365325768057449, 0.7365530703822265, 0.8575711586252157, 0.7080580148319983, 0.5924616447838523, 0.29623082239192616, 0.29623082239192616, 0.7080787442551234, 0.5926127994965021, 0.29630639974825107, 0.29630639974825107, 0.708136517658391, 0.857568618507835, 0.41208051564462833, 0.41208051564462833, 0.8575660475697724, 0.5355225974665727, 0.5355225974665727, 0.7080926610751275, 0.8280604811827852, 0.27602016039426175, 0.7476601666142357, 0.37383008330711787, 0.5033055100979652, 0.3202853246077961, 0.18302018549016918, 0.9712336143582756, 0.6301645179546016, 0.3150822589773008, 0.1575411294886504, 0.9228240426992729, 0.47686359166445164, 0.3179090611096344, 0.1589545305548172, 0.7365167500086405, 0.7364901974216084, 0.8575539237867882, 0.7365363347425503, 0.8575803919432518, 0.3554101847550228, 0.7108203695100456, 0.8575870609310123, 0.8575692487168629, 0.8575133984182478], \"Term\": [\"(smes)\", \"(smes)\", \"(smes)\", \"2020\", \"a\", \"a\", \"a\", \"accessing\", \"activities.\", \"all\", \"also\", \"also\", \"analytics\", \"and\", \"and\", \"and\", \"are\", \"article\", \"article\", \"article\", \"as\", \"at\", \"barriers.\", \"be\", \"be\", \"behaviour\", \"building\", \"business\", \"business\", \"by\", \"can\", \"can\", \"cannot\", \"catering\", \"challenges\", \"computer-assisted\", \"conducted\", \"continuous\", \"crucial\", \"cultures,\", \"development\", \"diagnostic\", \"digital\", \"digital\", \"digital\", \"discusses\", \"discusses\", \"discusses\", \"economy\", \"emphasizes\", \"employed\", \"enterprises\", \"enterprises\", \"enterprises\", \"era.\", \"explore\", \"explores\", \"faced\", \"finally,\", \"financial\", \"for\", \"for\", \"for\", \"generalized\", \"generations.\", \"highlighting\", \"highlights\", \"how\", \"how\", \"human\", \"ict\", \"identifies\", \"impact\", \"impact\", \"implementation\", \"importance\", \"importance\", \"importance\", \"improving\", \"in\", \"in\", \"in\", \"infrastructure,\", \"innovating\", \"interviewing.\", \"is\", \"it\", \"it\", \"key\", \"leadership,\", \"limitations\", \"macro\", \"majority\", \"managers\", \"marketing\", \"marketing\", \"marketing,\", \"marketing.\", \"medium-sized\", \"medium-sized\", \"medium-sized\", \"micro\", \"notes\", \"objective\", \"of\", \"of\", \"of\", \"on\", \"on\", \"on\", \"order\", \"overall,\", \"owners\", \"poland\", \"poland\", \"poland.\", \"poland.\", \"preferences\", \"processes.\", \"profile\", \"questionnaires\", \"relate\", \"resource\", \"respondents.\", \"results\", \"should\", \"small\", \"small\", \"small\", \"sme\", \"smes\", \"smes\", \"smes\", \"smes.\", \"structured\", \"study\", \"study\", \"study\\u2019s\", \"survey\", \"survey\", \"sustain\", \"technologies\", \"technologies\", \"that\", \"that\", \"the\", \"the\", \"the\", \"their\", \"to\", \"to\", \"to\", \"tools\", \"transformation\", \"transformation\", \"transformation\", \"trends\", \"trends,\", \"using\", \"utilizing\", \"web\", \"with\", \"with\", \"x,\", \"y,\", \"z\"]}, \"R\": 30, \"lambda.step\": 0.01, \"plot.opts\": {\"xlab\": \"PC1\", \"ylab\": \"PC2\"}, \"topic.order\": [2, 1, 3]};\n",
       "\n",
       "function LDAvis_load_lib(url, callback){\n",
       "  var s = document.createElement('script');\n",
       "  s.src = url;\n",
       "  s.async = true;\n",
       "  s.onreadystatechange = s.onload = callback;\n",
       "  s.onerror = function(){console.warn(\"failed to load library \" + url);};\n",
       "  document.getElementsByTagName(\"head\")[0].appendChild(s);\n",
       "}\n",
       "\n",
       "if(typeof(LDAvis) !== \"undefined\"){\n",
       "   // already loaded: just create the visualization\n",
       "   !function(LDAvis){\n",
       "       new LDAvis(\"#\" + \"ldavis_el978420825610810081257946782\", ldavis_el978420825610810081257946782_data);\n",
       "   }(LDAvis);\n",
       "}else if(typeof define === \"function\" && define.amd){\n",
       "   // require.js is available: use it to load d3/LDAvis\n",
       "   require.config({paths: {d3: \"https://d3js.org/d3.v5\"}});\n",
       "   require([\"d3\"], function(d3){\n",
       "      window.d3 = d3;\n",
       "      LDAvis_load_lib(\"https://cdn.jsdelivr.net/gh/bmabey/pyLDAvis@3.4.0/pyLDAvis/js/ldavis.v3.0.0.js\", function(){\n",
       "        new LDAvis(\"#\" + \"ldavis_el978420825610810081257946782\", ldavis_el978420825610810081257946782_data);\n",
       "      });\n",
       "    });\n",
       "}else{\n",
       "    // require.js not available: dynamically load d3 & LDAvis\n",
       "    LDAvis_load_lib(\"https://d3js.org/d3.v5.js\", function(){\n",
       "         LDAvis_load_lib(\"https://cdn.jsdelivr.net/gh/bmabey/pyLDAvis@3.4.0/pyLDAvis/js/ldavis.v3.0.0.js\", function(){\n",
       "                 new LDAvis(\"#\" + \"ldavis_el978420825610810081257946782\", ldavis_el978420825610810081257946782_data);\n",
       "            })\n",
       "         });\n",
       "}\n",
       "</script>"
      ],
      "text/plain": [
       "<IPython.core.display.HTML object>"
      ]
     },
     "execution_count": 23,
     "metadata": {},
     "output_type": "execute_result"
    }
   ],
   "source": [
    "# 輸出主題模型分析結果\n",
    "import pyLDAvis.gensim\n",
    "pyLDAvis.enable_notebook()\n",
    "vis = pyLDAvis.gensim.prepare(lda_model, corpus, dictionary)\n",
    "pyLDAvis.display(vis)"
   ]
  },
  {
   "cell_type": "code",
   "execution_count": null,
   "id": "0f78a153",
   "metadata": {},
   "outputs": [],
   "source": []
  }
 ],
 "metadata": {
  "kernelspec": {
   "display_name": "Python 3 (ipykernel)",
   "language": "python",
   "name": "python3"
  },
  "language_info": {
   "codemirror_mode": {
    "name": "ipython",
    "version": 3
   },
   "file_extension": ".py",
   "mimetype": "text/x-python",
   "name": "python",
   "nbconvert_exporter": "python",
   "pygments_lexer": "ipython3",
   "version": "3.9.13"
  }
 },
 "nbformat": 4,
 "nbformat_minor": 5
}
